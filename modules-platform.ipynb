{
 "cells": [
  {
   "cell_type": "code",
   "execution_count": 14,
   "id": "47e2a75a",
   "metadata": {},
   "outputs": [
    {
     "name": "stdout",
     "output_type": "stream",
     "text": [
      "Linux-5.15.0-57-generic-x86_64-with-glibc2.35\n"
     ]
    }
   ],
   "source": [
    "import platform # returns the environment where your code is executed as string\n",
    "# aliased present an alternative name of underlying layer hardware, the terse present a briefer form of the result (if possible)\n",
    "\n",
    "print(platform.platform(aliased=0, terse=0))"
   ]
  },
  {
   "cell_type": "code",
   "execution_count": 17,
   "id": "b3f82242",
   "metadata": {},
   "outputs": [
    {
     "name": "stdout",
     "output_type": "stream",
     "text": [
      "x86_64\n"
     ]
    }
   ],
   "source": [
    "print(platform.machine())# returns the generic name of the processor as string"
   ]
  },
  {
   "cell_type": "code",
   "execution_count": 20,
   "id": "cbfc11d7",
   "metadata": {},
   "outputs": [
    {
     "name": "stdout",
     "output_type": "stream",
     "text": [
      "x86_64\n"
     ]
    }
   ],
   "source": [
    "print(platform.processor())# returns the real name of the processor as string for some platform it returns the same name as machine method returns"
   ]
  },
  {
   "cell_type": "code",
   "execution_count": 21,
   "id": "ed88d814",
   "metadata": {},
   "outputs": [
    {
     "name": "stdout",
     "output_type": "stream",
     "text": [
      "Linux\n"
     ]
    }
   ],
   "source": [
    "print(platform.system())# returns the generic operating system as string"
   ]
  },
  {
   "cell_type": "code",
   "execution_count": 25,
   "id": "ca2a5642",
   "metadata": {},
   "outputs": [
    {
     "name": "stdout",
     "output_type": "stream",
     "text": [
      "CPython\n"
     ]
    }
   ],
   "source": [
    "print(platform.python_implementation())# return the implementation of python here is \"Cpython\" as string"
   ]
  },
  {
   "cell_type": "code",
   "execution_count": 29,
   "id": "f5a96a24",
   "metadata": {},
   "outputs": [
    {
     "name": "stdout",
     "output_type": "stream",
     "text": [
      "#63-Ubuntu SMP Thu Nov 24 13:43:17 UTC 2022\n"
     ]
    }
   ],
   "source": [
    "print(platform.version()) # returns version of operating system as string "
   ]
  },
  {
   "cell_type": "code",
   "execution_count": 27,
   "id": "9215758e",
   "metadata": {},
   "outputs": [
    {
     "name": "stdout",
     "output_type": "stream",
     "text": [
      "3.9.13\n"
     ]
    }
   ],
   "source": [
    "print(platform.python_version())# returns the python version major.minor.patch as string"
   ]
  },
  {
   "cell_type": "code",
   "execution_count": 28,
   "id": "3e979a08",
   "metadata": {},
   "outputs": [
    {
     "name": "stdout",
     "output_type": "stream",
     "text": [
      "('3', '9', '13')\n"
     ]
    }
   ],
   "source": [
    "print(platform.python_version_tuple())# returns the python version ('major', 'minor', 'patch') as tuple"
   ]
  }
 ],
 "metadata": {
  "kernelspec": {
   "display_name": "Python 3 (ipykernel)",
   "language": "python",
   "name": "python3"
  },
  "language_info": {
   "codemirror_mode": {
    "name": "ipython",
    "version": 3
   },
   "file_extension": ".py",
   "mimetype": "text/x-python",
   "name": "python",
   "nbconvert_exporter": "python",
   "pygments_lexer": "ipython3",
   "version": "3.9.13"
  }
 },
 "nbformat": 4,
 "nbformat_minor": 5
}
