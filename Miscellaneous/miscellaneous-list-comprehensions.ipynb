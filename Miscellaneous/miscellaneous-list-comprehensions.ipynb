{
 "cells": [
  {
   "cell_type": "code",
   "execution_count": 1,
   "id": "b9349f10",
   "metadata": {},
   "outputs": [],
   "source": [
    "# An ordinary list\n",
    "numbers_10_100 =[] \n",
    "for i in range(10,101):\n",
    "    numbers_10_100.append(i)\n"
   ]
  },
  {
   "cell_type": "code",
   "execution_count": 2,
   "id": "80118b9f",
   "metadata": {},
   "outputs": [
    {
     "name": "stdout",
     "output_type": "stream",
     "text": [
      "[10, 11, 12, 13, 14, 15, 16, 17, 18, 19, 20, 21, 22, 23, 24, 25, 26, 27, 28, 29, 30, 31, 32, 33, 34, 35, 36, 37, 38, 39, 40, 41, 42, 43, 44, 45, 46, 47, 48, 49, 50, 51, 52, 53, 54, 55, 56, 57, 58, 59, 60, 61, 62, 63, 64, 65, 66, 67, 68, 69, 70, 71, 72, 73, 74, 75, 76, 77, 78, 79, 80, 81, 82, 83, 84, 85, 86, 87, 88, 89, 90, 91, 92, 93, 94, 95, 96, 97, 98, 99, 100]\n"
     ]
    }
   ],
   "source": [
    "print(numbers_10_100)"
   ]
  },
  {
   "cell_type": "code",
   "execution_count": 3,
   "id": "cba8a4fd",
   "metadata": {},
   "outputs": [],
   "source": [
    "# A list comprehension\n",
    "numbers_100_comp = [x for x in range(10,101)]"
   ]
  },
  {
   "cell_type": "code",
   "execution_count": 4,
   "id": "d0bd4e14",
   "metadata": {},
   "outputs": [
    {
     "name": "stdout",
     "output_type": "stream",
     "text": [
      "[10, 11, 12, 13, 14, 15, 16, 17, 18, 19, 20, 21, 22, 23, 24, 25, 26, 27, 28, 29, 30, 31, 32, 33, 34, 35, 36, 37, 38, 39, 40, 41, 42, 43, 44, 45, 46, 47, 48, 49, 50, 51, 52, 53, 54, 55, 56, 57, 58, 59, 60, 61, 62, 63, 64, 65, 66, 67, 68, 69, 70, 71, 72, 73, 74, 75, 76, 77, 78, 79, 80, 81, 82, 83, 84, 85, 86, 87, 88, 89, 90, 91, 92, 93, 94, 95, 96, 97, 98, 99, 100]\n"
     ]
    }
   ],
   "source": [
    "print(numbers_100_comp)"
   ]
  },
  {
   "cell_type": "code",
   "execution_count": 5,
   "id": "9eb35239",
   "metadata": {},
   "outputs": [],
   "source": [
    "# A comprenhension list with condition\n",
    "ood_list = [x for x in range(10,101) if x % 2 != 0]"
   ]
  },
  {
   "cell_type": "code",
   "execution_count": 6,
   "id": "c8016b82",
   "metadata": {},
   "outputs": [
    {
     "name": "stdout",
     "output_type": "stream",
     "text": [
      "[11, 13, 15, 17, 19, 21, 23, 25, 27, 29, 31, 33, 35, 37, 39, 41, 43, 45, 47, 49, 51, 53, 55, 57, 59, 61, 63, 65, 67, 69, 71, 73, 75, 77, 79, 81, 83, 85, 87, 89, 91, 93, 95, 97, 99]\n"
     ]
    }
   ],
   "source": [
    "print(ood_list)"
   ]
  },
  {
   "cell_type": "code",
   "execution_count": 7,
   "id": "e85e1c3f",
   "metadata": {},
   "outputs": [],
   "source": [
    "list_s = [\"/\"if i%2==0 else \"\\\\\" for i in range(10,101)]"
   ]
  },
  {
   "cell_type": "code",
   "execution_count": 8,
   "id": "c0b5e13a",
   "metadata": {},
   "outputs": [
    {
     "name": "stdout",
     "output_type": "stream",
     "text": [
      "['/', '\\\\', '/', '\\\\', '/', '\\\\', '/', '\\\\', '/', '\\\\', '/', '\\\\', '/', '\\\\', '/', '\\\\', '/', '\\\\', '/', '\\\\', '/', '\\\\', '/', '\\\\', '/', '\\\\', '/', '\\\\', '/', '\\\\', '/', '\\\\', '/', '\\\\', '/', '\\\\', '/', '\\\\', '/', '\\\\', '/', '\\\\', '/', '\\\\', '/', '\\\\', '/', '\\\\', '/', '\\\\', '/', '\\\\', '/', '\\\\', '/', '\\\\', '/', '\\\\', '/', '\\\\', '/', '\\\\', '/', '\\\\', '/', '\\\\', '/', '\\\\', '/', '\\\\', '/', '\\\\', '/', '\\\\', '/', '\\\\', '/', '\\\\', '/', '\\\\', '/', '\\\\', '/', '\\\\', '/', '\\\\', '/', '\\\\', '/', '\\\\', '/']\n"
     ]
    }
   ],
   "source": [
    "print(list_s)"
   ]
  },
  {
   "cell_type": "code",
   "execution_count": 9,
   "id": "0b932cc9",
   "metadata": {},
   "outputs": [
    {
     "name": "stdout",
     "output_type": "stream",
     "text": [
      "/*_*\\*_*/*_*\\*_*/*_*\\*_*/*_*\\*_*/*_*\\*_*/*_*\\*_*/*_*\\*_*/*_*\\*_*/*_*\\*_*/*_*\\*_*/*_*\\*_*/*_*\\*_*/*_*\\*_*/*_*\\*_*/*_*\\*_*/*_*\\*_*/*_*\\*_*/*_*\\*_*/*_*\\*_*/*_*\\*_*/*_*\\*_*/*_*\\*_*/*_*\\*_*/*_*\\*_*/*_*\\*_*/*_*\\*_*/*_*\\*_*/*_*\\*_*/*_*\\*_*/*_*\\*_*/*_*\\*_*/*_*\\*_*/*_*\\*_*/*_*\\*_*/*_*\\*_*/*_*\\*_*/*_*\\*_*/*_*\\*_*/*_*\\*_*/*_*\\*_*/*_*\\*_*/*_*\\*_*/*_*\\*_*/*_*\\*_*/*_*\\*_*/\n"
     ]
    }
   ],
   "source": [
    "print(\"*_*\".join(list_s))"
   ]
  },
  {
   "cell_type": "code",
   "execution_count": 10,
   "id": "7be5492c",
   "metadata": {},
   "outputs": [],
   "source": [
    "nist_list = [[i for i in range(3)]for i in range(6)]"
   ]
  },
  {
   "cell_type": "code",
   "execution_count": 11,
   "id": "4d8e031a",
   "metadata": {},
   "outputs": [
    {
     "name": "stdout",
     "output_type": "stream",
     "text": [
      "[[0, 1, 2], [0, 1, 2], [0, 1, 2], [0, 1, 2], [0, 1, 2], [0, 1, 2]]\n"
     ]
    }
   ],
   "source": [
    "print(nist_list)"
   ]
  },
  {
   "cell_type": "code",
   "execution_count": 12,
   "id": "2ef3b499",
   "metadata": {},
   "outputs": [
    {
     "name": "stdout",
     "output_type": "stream",
     "text": [
      "[0, 1, 2]\n",
      "[0, 1, 2]\n",
      "[0, 1, 2]\n",
      "[0, 1, 2]\n",
      "[0, 1, 2]\n",
      "[0, 1, 2]\n"
     ]
    }
   ],
   "source": [
    "for i in nist_list:\n",
    "    print(i)"
   ]
  }
 ],
 "metadata": {
  "kernelspec": {
   "display_name": "Python 3 (ipykernel)",
   "language": "python",
   "name": "python3"
  },
  "language_info": {
   "codemirror_mode": {
    "name": "ipython",
    "version": 3
   },
   "file_extension": ".py",
   "mimetype": "text/x-python",
   "name": "python",
   "nbconvert_exporter": "python",
   "pygments_lexer": "ipython3",
   "version": "3.9.13"
  }
 },
 "nbformat": 4,
 "nbformat_minor": 5
}
