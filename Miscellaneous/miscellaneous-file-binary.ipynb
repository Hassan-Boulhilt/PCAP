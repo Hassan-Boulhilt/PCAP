{
 "cells": [
  {
   "cell_type": "code",
   "execution_count": 29,
   "id": "22df36cc",
   "metadata": {},
   "outputs": [],
   "source": [
    "# Read a file binary (image) \n",
    "ba = bytearray(2500000)\n",
    "try:\n",
    "    stream = open(\"comp.jpg\",\"rb\")\n",
    "    \n",
    "    stream.readinto(ba)\n",
    "    \n",
    "    stream.close()\n",
    "    \n",
    "except Exception as e:\n",
    "    print(\"An Error Occured: \",e)\n",
    "    "
   ]
  },
  {
   "cell_type": "code",
   "execution_count": 30,
   "id": "9bc17674",
   "metadata": {},
   "outputs": [],
   "source": [
    "# Write a file binary (image)\n",
    "try:\n",
    "    stream = open(\"compcopy.jpg\",\"wb\")\n",
    "    \n",
    "    stream.write(ba)\n",
    "    \n",
    "    stream.close()\n",
    "    \n",
    "except Exception as e:\n",
    "    print(\"An Error Occured: \",e)"
   ]
  },
  {
   "cell_type": "code",
   "execution_count": 36,
   "id": "1ecb5789",
   "metadata": {},
   "outputs": [],
   "source": [
    "# Copy an image with the exact size of the origin one\n",
    "try:\n",
    "    stream = open(\"comp.jpg\",\"rb\")\n",
    "    streamb = open(\"compcopyb.jpg\",\"wb\")\n",
    "    \n",
    "    streamb.write(bytearray(stream.read()))\n",
    "    \n",
    "    stream.close()\n",
    "    \n",
    "except Exception as e:\n",
    "    print(\"An Error Occured: \",e)\n",
    "    "
   ]
  }
 ],
 "metadata": {
  "kernelspec": {
   "display_name": "Python 3 (ipykernel)",
   "language": "python",
   "name": "python3"
  },
  "language_info": {
   "codemirror_mode": {
    "name": "ipython",
    "version": 3
   },
   "file_extension": ".py",
   "mimetype": "text/x-python",
   "name": "python",
   "nbconvert_exporter": "python",
   "pygments_lexer": "ipython3",
   "version": "3.9.13"
  }
 },
 "nbformat": 4,
 "nbformat_minor": 5
}
