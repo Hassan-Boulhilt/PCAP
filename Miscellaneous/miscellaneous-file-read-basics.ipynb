{
 "cells": [
  {
   "cell_type": "code",
   "execution_count": 1,
   "id": "606b4784",
   "metadata": {},
   "outputs": [
    {
     "name": "stdout",
     "output_type": "stream",
     "text": [
      "PIG is a domestic animal.\n",
      "LION is a wild animal.\n",
      "FOX is a wild animal that is sometimes kept as a pet. "
     ]
    }
   ],
   "source": [
    "# Open a local file and read line from it and print them to console\n",
    "\n",
    "try:\n",
    "    stream = open(\"animals.txt\", \"rt\")\n",
    "    for line in stream:\n",
    "        print(line,end=\"\")\n",
    "    stream.close()\n",
    "except Exception as e:\n",
    "    print(\"An Error Occurred: \", e)"
   ]
  },
  {
   "cell_type": "code",
   "execution_count": 2,
   "id": "58f06338",
   "metadata": {},
   "outputs": [
    {
     "name": "stdout",
     "output_type": "stream",
     "text": [
      "PIG is a domestic animal.\n",
      "LION is a wild animal.\n",
      "FOX is a wild animal that is sometimes kept as a pet. \n"
     ]
    }
   ],
   "source": [
    "# Open a local file and read it  and print them to console\n",
    "\n",
    "try:\n",
    "    stream = open(\"animals.txt\", \"rt\")\n",
    "    print(stream.read())        \n",
    "    stream.close()\n",
    "except Exception as e:\n",
    "    print(\"An Error Occurred: \", e)"
   ]
  },
  {
   "cell_type": "code",
   "execution_count": 3,
   "id": "006d73ed",
   "metadata": {},
   "outputs": [
    {
     "name": "stdout",
     "output_type": "stream",
     "text": [
      "PIG is a domestic animal.\n",
      "\n"
     ]
    }
   ],
   "source": [
    "# Open a local file and read a line from it and print it to console\n",
    "\n",
    "try:\n",
    "    stream = open(\"animals.txt\", \"rt\")\n",
    "    print(stream.readline())        \n",
    "    stream.close()\n",
    "except Exception as e:\n",
    "    print(\"An Error Occurred: \", e)"
   ]
  },
  {
   "cell_type": "code",
   "execution_count": 4,
   "id": "ce94ab51",
   "metadata": {},
   "outputs": [
    {
     "name": "stdout",
     "output_type": "stream",
     "text": [
      "['PIG is a domestic animal.\\n', 'LION is a wild animal.\\n', 'FOX is a wild animal that is sometimes kept as a pet. ']\n"
     ]
    }
   ],
   "source": [
    "# Open a local file and read it and read all lines from it  and print a LIST contaning all lines to console\n",
    "\n",
    "try:\n",
    "    stream = open(\"animals.txt\", \"rt\")\n",
    "    print(stream.readlines())        \n",
    "    stream.close()\n",
    "except Exception as e:\n",
    "    print(\"An Error Occurred: \", e)"
   ]
  },
  {
   "cell_type": "code",
   "execution_count": 5,
   "id": "8b9a13f1",
   "metadata": {},
   "outputs": [
    {
     "name": "stdout",
     "output_type": "stream",
     "text": [
      "P\n"
     ]
    }
   ],
   "source": [
    "# Open a local file and read it and print one character defined by the argument passed to read function to console\n",
    "\n",
    "try:\n",
    "    stream = open(\"animals.txt\", \"rt\")\n",
    "    print(stream.read(1))        \n",
    "    stream.close()\n",
    "except Exception as e:\n",
    "    print(\"An Error Occurred: \", e)"
   ]
  },
  {
   "cell_type": "code",
   "execution_count": 6,
   "id": "95f88241",
   "metadata": {},
   "outputs": [
    {
     "name": "stdout",
     "output_type": "stream",
     "text": [
      "P\n"
     ]
    }
   ],
   "source": [
    "# Open a local file and read it and print one character defined by the argument passed to readline function to console\n",
    "\n",
    "try:\n",
    "    stream = open(\"animals.txt\", \"rt\")\n",
    "    print(stream.readline(1))        \n",
    "    stream.close()\n",
    "except Exception as e:\n",
    "    print(\"An Error Occurred: \", e)"
   ]
  },
  {
   "cell_type": "code",
   "execution_count": 7,
   "id": "916a7e66",
   "metadata": {},
   "outputs": [
    {
     "name": "stdout",
     "output_type": "stream",
     "text": [
      "['PIG is a domestic animal.\\n']\n"
     ]
    }
   ],
   "source": [
    "# Open a local file and read it and print a list containg one line defined by the argument passed to readlines function to console\n",
    "\n",
    "try:\n",
    "    stream = open(\"animals.txt\", \"rt\")\n",
    "    print(stream.readlines(1))        \n",
    "    stream.close()\n",
    "except Exception as e:\n",
    "    print(\"An Error Occurred: \", e)"
   ]
  },
  {
   "cell_type": "code",
   "execution_count": 8,
   "id": "cd408c87",
   "metadata": {},
   "outputs": [
    {
     "name": "stdout",
     "output_type": "stream",
     "text": [
      "PIG is a domestic animal.\n",
      "\n",
      "LION is a wild animal.\n",
      "\n",
      "FOX is a wild animal that is sometimes kept as a pet. \n"
     ]
    }
   ],
   "source": [
    "try:\n",
    "    stream = open(\"animals.txt\", \"rt\")\n",
    "    lines = stream.readlines(1)\n",
    "    while lines:\n",
    "        for line in lines:\n",
    "            print(line)\n",
    "        lines = stream.readlines(1)\n",
    "except Exception as e:\n",
    "    print(\"An Error Occurred: \",e)"
   ]
  }
 ],
 "metadata": {
  "kernelspec": {
   "display_name": "Python 3 (ipykernel)",
   "language": "python",
   "name": "python3"
  },
  "language_info": {
   "codemirror_mode": {
    "name": "ipython",
    "version": 3
   },
   "file_extension": ".py",
   "mimetype": "text/x-python",
   "name": "python",
   "nbconvert_exporter": "python",
   "pygments_lexer": "ipython3",
   "version": "3.9.13"
  }
 },
 "nbformat": 4,
 "nbformat_minor": 5
}
