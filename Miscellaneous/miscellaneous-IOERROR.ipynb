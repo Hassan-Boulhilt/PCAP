{
 "cells": [
  {
   "cell_type": "code",
   "execution_count": 1,
   "id": "e7758bff",
   "metadata": {},
   "outputs": [
    {
     "name": "stdout",
     "output_type": "stream",
     "text": [
      "[Errno 2] No such file or directory: 'fdg'\n"
     ]
    }
   ],
   "source": [
    "# Open a file that doesn\"t realy exist with read mode\n",
    "try:\n",
    "    stream = open(\"fdg\",\"r\")\n",
    "    close.stream\n",
    "except Exception as e:\n",
    "    print(e)"
   ]
  },
  {
   "cell_type": "code",
   "execution_count": 24,
   "id": "7d888072",
   "metadata": {},
   "outputs": [
    {
     "name": "stdout",
     "output_type": "stream",
     "text": [
      "An Error Occurred:  No such file or directory\n"
     ]
    }
   ],
   "source": [
    "# Open a file that doesn\"t realy exist with read mode\n",
    "from os import strerror\n",
    "try:\n",
    "    stream = open(\"fdg\",\"r\")\n",
    "    close.stream\n",
    "except Exception as e:\n",
    "    print(\"An Error Occurred: \",strerror(e.errno))"
   ]
  },
  {
   "cell_type": "code",
   "execution_count": 5,
   "id": "f51fb547",
   "metadata": {},
   "outputs": [
    {
     "name": "stdout",
     "output_type": "stream",
     "text": [
      "[Errno 13] Permission denied: '../String'\n"
     ]
    }
   ],
   "source": [
    "\n",
    "# Open a file that is not a file instead it is a folder\n",
    "try:\n",
    "    stream = open(\"../String\",\"r\")\n",
    "    close.stream\n",
    "except Exception as e:\n",
    "    print(e)"
   ]
  },
  {
   "cell_type": "code",
   "execution_count": 25,
   "id": "90b5ebc5",
   "metadata": {},
   "outputs": [
    {
     "name": "stdout",
     "output_type": "stream",
     "text": [
      "An Error Occurred:  Permission denied\n"
     ]
    }
   ],
   "source": [
    "\n",
    "# Open a file that is not a file instead it is a folder\n",
    "try:\n",
    "    stream = open(\"../String\",\"r\")\n",
    "    close.stream\n",
    "except Exception as e:\n",
    "    print(\"An Error Occurred: \",strerror(e.errno))"
   ]
  },
  {
   "cell_type": "code",
   "execution_count": 31,
   "id": "827a852a",
   "metadata": {},
   "outputs": [
    {
     "name": "stdout",
     "output_type": "stream",
     "text": [
      "[WinError 183] Cannot create a file when that file already exists: 'ab'\n"
     ]
    }
   ],
   "source": [
    "\n",
    "# file exists error\n",
    "import os\n",
    "\n",
    "try:\n",
    "    os.mkdir(\"ab\")\n",
    "    stream = open(\"ab\",\"r\")\n",
    "    close.stream\n",
    "except Exception as e:\n",
    "    print(e)"
   ]
  },
  {
   "cell_type": "code",
   "execution_count": 30,
   "id": "efd9b36d",
   "metadata": {},
   "outputs": [
    {
     "name": "stdout",
     "output_type": "stream",
     "text": [
      "An Error Occurred:  File exists\n"
     ]
    }
   ],
   "source": [
    "# file exists error\n",
    "import os\n",
    "try:\n",
    "    os.mkdir(\"ac\")\n",
    "    stream = open(\"ab\",\"r\")\n",
    "    close.stream\n",
    "except Exception as e:\n",
    "    print(\"An Error Occurred: \",strerror(e.errno))"
   ]
  }
 ],
 "metadata": {
  "kernelspec": {
   "display_name": "Python 3 (ipykernel)",
   "language": "python",
   "name": "python3"
  },
  "language_info": {
   "codemirror_mode": {
    "name": "ipython",
    "version": 3
   },
   "file_extension": ".py",
   "mimetype": "text/x-python",
   "name": "python",
   "nbconvert_exporter": "python",
   "pygments_lexer": "ipython3",
   "version": "3.9.13"
  }
 },
 "nbformat": 4,
 "nbformat_minor": 5
}
