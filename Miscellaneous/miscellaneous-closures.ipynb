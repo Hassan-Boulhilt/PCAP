{
 "cells": [
  {
   "cell_type": "code",
   "execution_count": 2,
   "id": "aa5c449c",
   "metadata": {},
   "outputs": [],
   "source": [
    "def greeting(msg):\n",
    "    message = msg+\" :)\"\n",
    "    def print_msg():\n",
    "        print(message)\n",
    "    return print_msg"
   ]
  },
  {
   "cell_type": "code",
   "execution_count": 3,
   "id": "d14e1c4a",
   "metadata": {},
   "outputs": [],
   "source": [
    "d = greeting(\"Hassan\") # assign a function  to variable d"
   ]
  },
  {
   "cell_type": "code",
   "execution_count": 6,
   "id": "fd387de5",
   "metadata": {},
   "outputs": [
    {
     "name": "stdout",
     "output_type": "stream",
     "text": [
      "Hassan:)\n"
     ]
    }
   ],
   "source": [
    "d() # excuted like a function"
   ]
  },
  {
   "cell_type": "code",
   "execution_count": 7,
   "id": "433c06ef",
   "metadata": {},
   "outputs": [
    {
     "name": "stdout",
     "output_type": "stream",
     "text": [
      "<function greeting.<locals>.print_msg at 0x000001DAE4DD8F70>\n"
     ]
    }
   ],
   "source": [
    "print(d)"
   ]
  },
  {
   "cell_type": "code",
   "execution_count": 8,
   "id": "1ecb9f85",
   "metadata": {},
   "outputs": [],
   "source": [
    "# both functions had\n",
    "def add_multiply(a):\n",
    "    a = a+a\n",
    "    def multiply(y):\n",
    "        return a * y\n",
    "    return multiply"
   ]
  },
  {
   "cell_type": "code",
   "execution_count": 11,
   "id": "df3e367e",
   "metadata": {},
   "outputs": [],
   "source": [
    "result1 = add_multiply(5)\n",
    "result2 = add_multiply(10)"
   ]
  },
  {
   "cell_type": "code",
   "execution_count": 12,
   "id": "83644ea7",
   "metadata": {},
   "outputs": [],
   "source": [
    "result1_1 = result1(2)\n",
    "result2_2 = result2(2)"
   ]
  },
  {
   "cell_type": "code",
   "execution_count": 13,
   "id": "db70e37a",
   "metadata": {},
   "outputs": [
    {
     "name": "stdout",
     "output_type": "stream",
     "text": [
      "20\n",
      "40\n"
     ]
    }
   ],
   "source": [
    "print(result1_1)\n",
    "print(result2_2)"
   ]
  }
 ],
 "metadata": {
  "kernelspec": {
   "display_name": "Python 3 (ipykernel)",
   "language": "python",
   "name": "python3"
  },
  "language_info": {
   "codemirror_mode": {
    "name": "ipython",
    "version": 3
   },
   "file_extension": ".py",
   "mimetype": "text/x-python",
   "name": "python",
   "nbconvert_exporter": "python",
   "pygments_lexer": "ipython3",
   "version": "3.9.13"
  }
 },
 "nbformat": 4,
 "nbformat_minor": 5
}
