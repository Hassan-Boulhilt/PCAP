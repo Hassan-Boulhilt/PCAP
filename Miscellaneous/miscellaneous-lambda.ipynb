{
 "cells": [
  {
   "cell_type": "code",
   "execution_count": null,
   "id": "dee8f010",
   "metadata": {},
   "outputs": [],
   "source": [
    "# Lamda syntax\n",
    "# can have many parameters\n",
    "lambda parameter1,parameter2 : # Accept only one Instruction"
   ]
  },
  {
   "cell_type": "code",
   "execution_count": null,
   "id": "4f6cb738",
   "metadata": {},
   "outputs": [],
   "source": [
    "# Ordinary function\n",
    "def name_function(param1,param2)\n",
    "     #instruction 1\n",
    "     #instruction 2\n",
    "     # ...\n",
    "    "
   ]
  },
  {
   "cell_type": "code",
   "execution_count": 2,
   "id": "357b1dcd",
   "metadata": {},
   "outputs": [],
   "source": [
    "def aplusb(a, b):\n",
    "    print(a+b)"
   ]
  },
  {
   "cell_type": "code",
   "execution_count": 3,
   "id": "a776931b",
   "metadata": {},
   "outputs": [
    {
     "name": "stdout",
     "output_type": "stream",
     "text": [
      "5\n"
     ]
    }
   ],
   "source": [
    "aplusb(2,3)"
   ]
  },
  {
   "cell_type": "code",
   "execution_count": 16,
   "id": "94fc507f",
   "metadata": {},
   "outputs": [],
   "source": [
    "c = lambda a, b: a+b"
   ]
  },
  {
   "cell_type": "code",
   "execution_count": 20,
   "id": "e2be5a95",
   "metadata": {},
   "outputs": [
    {
     "data": {
      "text/plain": [
       "5"
      ]
     },
     "execution_count": 20,
     "metadata": {},
     "output_type": "execute_result"
    }
   ],
   "source": [
    "c(2,3)"
   ]
  }
 ],
 "metadata": {
  "kernelspec": {
   "display_name": "Python 3 (ipykernel)",
   "language": "python",
   "name": "python3"
  },
  "language_info": {
   "codemirror_mode": {
    "name": "ipython",
    "version": 3
   },
   "file_extension": ".py",
   "mimetype": "text/x-python",
   "name": "python",
   "nbconvert_exporter": "python",
   "pygments_lexer": "ipython3",
   "version": "3.9.13"
  }
 },
 "nbformat": 4,
 "nbformat_minor": 5
}
