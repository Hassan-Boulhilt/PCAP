{
 "cells": [
  {
   "cell_type": "code",
   "execution_count": 1,
   "id": "c2c954dd",
   "metadata": {},
   "outputs": [],
   "source": [
    "# Write to a new file\n",
    "try:\n",
    "    stream = open(\"Ar.txt\",\"w\")    # Note if the file not exists open method wil create one and write it\n",
    "    stream.write(\"Cat is a lovely domestic pet\\n\")\n",
    "    stream.write(\"Cat is a lovely domestic pet\\n\")\n",
    "    stream.close()\n",
    "except Exception as e:\n",
    "    print(\"An Error Occurred: \", e)\n",
    "    "
   ]
  },
  {
   "cell_type": "code",
   "execution_count": 2,
   "id": "c019db07",
   "metadata": {},
   "outputs": [
    {
     "name": "stdout",
     "output_type": "stream",
     "text": [
      "Cat is a lovely domestic pet\n",
      "Cat is a lovely domestic pet\n"
     ]
    }
   ],
   "source": [
    "# read new created file\n",
    "try:\n",
    "    stream = open(\"Ar.txt\",\"rt\")\n",
    "    for line in stream:\n",
    "        print(line, end=\"\")\n",
    "    stream.close()\n",
    "except Exception as e:\n",
    "    print(\"An Error Occurred: \", e)"
   ]
  },
  {
   "cell_type": "code",
   "execution_count": 3,
   "id": "81b881c8",
   "metadata": {},
   "outputs": [],
   "source": [
    "# Write to an existing file\n",
    "try:\n",
    "    stream = open(\"animals.txt\",\"a+\")    # Update file with sentence\n",
    "    stream.write(\"Cat is a lovely domestic pet\\n\")\n",
    "    stream.close()\n",
    "except Exception as e:\n",
    "    print(\"An Error Occurred: \", e)\n",
    "    "
   ]
  },
  {
   "cell_type": "code",
   "execution_count": 4,
   "id": "7d44762b",
   "metadata": {},
   "outputs": [
    {
     "name": "stdout",
     "output_type": "stream",
     "text": [
      "PIG is a domestic animal.\n",
      "LION is a wild animal.\n",
      "FOX is a wild animal that is sometimes kept as a pet.\n",
      "Cat is a lovely domestic pet\n"
     ]
    }
   ],
   "source": [
    "# read update file\n",
    "try:\n",
    "    stream = open(\"animals.txt\",\"rt\")\n",
    "    for line in stream:\n",
    "        print(line, end=\"\")\n",
    "    stream.close()\n",
    "except Exception as e:\n",
    "    print(\"An Error Occurred: \", e)"
   ]
  }
 ],
 "metadata": {
  "kernelspec": {
   "display_name": "Python 3 (ipykernel)",
   "language": "python",
   "name": "python3"
  },
  "language_info": {
   "codemirror_mode": {
    "name": "ipython",
    "version": 3
   },
   "file_extension": ".py",
   "mimetype": "text/x-python",
   "name": "python",
   "nbconvert_exporter": "python",
   "pygments_lexer": "ipython3",
   "version": "3.9.13"
  }
 },
 "nbformat": 4,
 "nbformat_minor": 5
}
