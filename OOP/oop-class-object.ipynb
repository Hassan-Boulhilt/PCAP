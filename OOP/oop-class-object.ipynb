{
 "cells": [
  {
   "cell_type": "code",
   "execution_count": 12,
   "id": "8090a67f",
   "metadata": {},
   "outputs": [],
   "source": [
    "class Mammals:\n",
    "    # Initializer/Instance Attributes\n",
    "    def __init__(self):\n",
    "        self.group = \"vertebrate\"\n",
    "        self.character = \"mammary glands\"\n",
    "    # Instance method     \n",
    "    def summary(self):\n",
    "        # Access Instance Attributes   \n",
    "        print(f\"Mammals are a group {self.group}, characterized by the presence of {self.character}  which in females produce milk for feeding (nursing) their young\")\n",
    "    "
   ]
  },
  {
   "cell_type": "code",
   "execution_count": 13,
   "id": "d2ba9f86",
   "metadata": {},
   "outputs": [
    {
     "name": "stdout",
     "output_type": "stream",
     "text": [
      "Mammals are a group vertebrate, characterized by the presence of mammary glands  which in females produce milk for feeding (nursing) their young\n"
     ]
    }
   ],
   "source": [
    "myMammal = Mammals() # instantiate an object of class Mammals \n",
    "myMammal.summary()   # Call instance's method summary()"
   ]
  },
  {
   "cell_type": "code",
   "execution_count": null,
   "id": "bf1d25c0",
   "metadata": {},
   "outputs": [],
   "source": []
  }
 ],
 "metadata": {
  "kernelspec": {
   "display_name": "Python 3 (ipykernel)",
   "language": "python",
   "name": "python3"
  },
  "language_info": {
   "codemirror_mode": {
    "name": "ipython",
    "version": 3
   },
   "file_extension": ".py",
   "mimetype": "text/x-python",
   "name": "python",
   "nbconvert_exporter": "python",
   "pygments_lexer": "ipython3",
   "version": "3.9.13"
  }
 },
 "nbformat": 4,
 "nbformat_minor": 5
}
