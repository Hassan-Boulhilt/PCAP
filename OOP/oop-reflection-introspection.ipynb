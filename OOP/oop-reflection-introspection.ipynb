{
 "cells": [
  {
   "cell_type": "code",
   "execution_count": 1,
   "id": "3ff665fa",
   "metadata": {},
   "outputs": [],
   "source": [
    "# type(), isinstance(), issubclass()... \n",
    "def emptyString(given_obj):\n",
    "    for attr_key in given_obj.__dict__:\n",
    "        \n",
    "        attr_value = getattr(given_obj, attr_key)\n",
    "        \n",
    "        if isinstance(attr_value, str):\n",
    "            setattr(given_obj, attr_key, \"empty\")"
   ]
  },
  {
   "cell_type": "code",
   "execution_count": 2,
   "id": "f0c620c0",
   "metadata": {},
   "outputs": [],
   "source": [
    "class Cat:\n",
    "    counter = 0 # class variable\n",
    "    __group = \"Mammals\"\n",
    "    family = \"\"\n",
    "    def __init__(self, name, breed):\n",
    "        self.name = name\n",
    "        self.breed = breed\n",
    "        Cat.counter += 1 #this class variable will be shared by all class's instances\n",
    "        Cat.family = \"Felidae\"\n",
    "    def __str__(self):\n",
    "         return \"My name is {0}, and my breed is {1}.\".format(self.name, self.breed)\n",
    "class kitty(Cat):\n",
    "    pass"
   ]
  },
  {
   "cell_type": "code",
   "execution_count": 3,
   "id": "fd50cd59",
   "metadata": {},
   "outputs": [
    {
     "name": "stdout",
     "output_type": "stream",
     "text": [
      "{'name': 'joli', 'breed': 'Abyssinian Cat'}\n",
      "My name is joli, and my breed is Abyssinian Cat.\n",
      "My name is empty, and my breed is empty.\n",
      "{'name': 'empty', 'breed': 'empty'}\n"
     ]
    }
   ],
   "source": [
    "cat_1 = Cat(\"joli\", \"Abyssinian Cat\")\n",
    "print(cat_1.__dict__)\n",
    "print(cat_1)\n",
    "emptyString(cat_1)\n",
    "print(cat_1)\n",
    "print(cat_1.__dict__)\n"
   ]
  },
  {
   "cell_type": "code",
   "execution_count": 4,
   "id": "ddc6a419",
   "metadata": {},
   "outputs": [
    {
     "name": "stdout",
     "output_type": "stream",
     "text": [
      "True\n"
     ]
    }
   ],
   "source": [
    "print(isinstance(cat_1, Cat))# print True"
   ]
  },
  {
   "cell_type": "code",
   "execution_count": 5,
   "id": "3474e260",
   "metadata": {},
   "outputs": [
    {
     "name": "stdout",
     "output_type": "stream",
     "text": [
      "<class '__main__.Cat'>\n"
     ]
    }
   ],
   "source": [
    "print(type(cat_1))"
   ]
  },
  {
   "cell_type": "code",
   "execution_count": 6,
   "id": "ac502602",
   "metadata": {},
   "outputs": [
    {
     "name": "stdout",
     "output_type": "stream",
     "text": [
      "True\n"
     ]
    }
   ],
   "source": [
    "print(issubclass(kitty,Cat)) # print True"
   ]
  }
 ],
 "metadata": {
  "kernelspec": {
   "display_name": "Python 3 (ipykernel)",
   "language": "python",
   "name": "python3"
  },
  "language_info": {
   "codemirror_mode": {
    "name": "ipython",
    "version": 3
   },
   "file_extension": ".py",
   "mimetype": "text/x-python",
   "name": "python",
   "nbconvert_exporter": "python",
   "pygments_lexer": "ipython3",
   "version": "3.9.13"
  }
 },
 "nbformat": 4,
 "nbformat_minor": 5
}
