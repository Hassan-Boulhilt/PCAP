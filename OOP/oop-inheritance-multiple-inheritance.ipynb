{
 "cells": [
  {
   "cell_type": "code",
   "execution_count": 1,
   "id": "0f70ab7f",
   "metadata": {},
   "outputs": [],
   "source": [
    "\"\"\"Rules's MRO(Method Resolution Order)\n",
    "\n",
    "  * Pyhton search first in the current class for a given method call\n",
    "  * if not been found search for it in the superclass\n",
    "  * if the subclass inherite from two superclass it will search from left to right\n",
    "  * if not been found an AttributeError exception raise\n",
    "  \n",
    "  \"\"\"\n",
    "class Vehicle:\n",
    "    def __init__(self):\n",
    "        pass\n",
    "    def repr(self):\n",
    "        print(\"Hello from Vehicle\")\n",
    "class LandVehicle():\n",
    "    def __init__(self):\n",
    "        pass\n",
    "    def repr(self):\n",
    "        print(\"Hello from LandVehicle\")\n",
    "class Car(Vehicle, LandVehicle):\n",
    "    pass\n",
    "class CourseCar(Car):\n",
    "    pass\n"
   ]
  },
  {
   "cell_type": "code",
   "execution_count": 2,
   "id": "db3d8c65",
   "metadata": {},
   "outputs": [
    {
     "name": "stdout",
     "output_type": "stream",
     "text": [
      "Hello from Vehicle\n"
     ]
    }
   ],
   "source": [
    "mycar = Car()\n",
    "mycar.repr() # print repr function reside in vehicle according to the MRO rules"
   ]
  },
  {
   "cell_type": "code",
   "execution_count": null,
   "id": "7dc46620",
   "metadata": {},
   "outputs": [],
   "source": [
    "# print all direct superclass for a given class\n",
    "print(Vehicle.__bases__) # print it's direct superclass Object if no class specified Note Object class is the superclass of all subclasses in Python\n",
    "print(LandVehicle.__bases__) # print it's direct superclass Object if no class specified\n",
    "print(Car.__bases__) # print LandVehicle and Vehicle  \n",
    "print(CourseCar.__bases__) # print Car but not the LandVehicle and Vehicle because it inherite inderictly\n"
   ]
  }
 ],
 "metadata": {
  "kernelspec": {
   "display_name": "Python 3 (ipykernel)",
   "language": "python",
   "name": "python3"
  },
  "language_info": {
   "codemirror_mode": {
    "name": "ipython",
    "version": 3
   },
   "file_extension": ".py",
   "mimetype": "text/x-python",
   "name": "python",
   "nbconvert_exporter": "python",
   "pygments_lexer": "ipython3",
   "version": "3.9.13"
  }
 },
 "nbformat": 4,
 "nbformat_minor": 5
}
