{
 "cells": [
  {
   "cell_type": "code",
   "execution_count": 1,
   "id": "078bdb13",
   "metadata": {
    "scrolled": true
   },
   "outputs": [
    {
     "name": "stdout",
     "output_type": "stream",
     "text": [
      "-----------------------Cat.__dict__ before creation of class instances /\\ Note counter value = 0------------------------\n",
      "\n",
      "{'__module__': '__main__', 'counter': 0, '_Cat__group': 'Mammals', 'family': '', '__init__': <function Cat.__init__ at 0x0000023394507D30>, '__dict__': <attribute '__dict__' of 'Cat' objects>, '__weakref__': <attribute '__weakref__' of 'Cat' objects>, '__doc__': None}\n"
     ]
    }
   ],
   "source": [
    "\n",
    "class Cat:\n",
    "    counter = 0 # class variable\n",
    "    __group = \"Mammals\"\n",
    "    family = \"\"\n",
    "    def __init__(self, name, breed):\n",
    "        self.name = name\n",
    "        self.breed = breed\n",
    "        Cat.counter += 1 #this class variable will be shared by all class's instances\n",
    "        Cat.family = \"Felidae\"\n",
    "        \n",
    "\n",
    "print(\"Cat.__dict__ before creation of class instances /\\ Note counter value = 0\".center(120,\"-\"))\n",
    "print()\n",
    "print(Cat.__dict__)# __dict__ print class's entities\n"
   ]
  },
  {
   "cell_type": "code",
   "execution_count": 2,
   "id": "4b422db5",
   "metadata": {},
   "outputs": [
    {
     "name": "stdout",
     "output_type": "stream",
     "text": [
      "\n",
      "------------------------Cat.__dict__ after creation of class instances /\\ Note counter value = 3------------------------\n",
      "\n",
      "{'__module__': '__main__', 'counter': 3, '_Cat__group': 'Mammals', 'family': 'Felidae', '__init__': <function Cat.__init__ at 0x0000023394507D30>, '__dict__': <attribute '__dict__' of 'Cat' objects>, '__weakref__': <attribute '__weakref__' of 'Cat' objects>, '__doc__': None}\n"
     ]
    }
   ],
   "source": [
    "# Create class instances\n",
    "cat_1 = Cat(\"joli\", \"Abyssinian Cat\")\n",
    "cat_2 = Cat(\"mimi\", \"Bengal Cat\")\n",
    "cat_3 = Cat(\"fifi\", \"American Shorthair Cat\")\n",
    "print()\n",
    "print(\"Cat.__dict__ after creation of class instances /\\ Note counter value = 3\".center(120,\"-\"))\n",
    "print()\n",
    "print(Cat.__dict__)  # print \"counter\"'s value = 3 (class variable )"
   ]
  },
  {
   "cell_type": "code",
   "execution_count": 3,
   "id": "a5652cf8",
   "metadata": {},
   "outputs": [
    {
     "name": "stdout",
     "output_type": "stream",
     "text": [
      "--------------------------------cat_(x).__dict__ /\\ Note absence of 'counter' variable ---------------------------------\n",
      "\n",
      "{'name': 'joli', 'breed': 'Abyssinian Cat'}\n",
      "{'name': 'mimi', 'breed': 'Bengal Cat'}\n",
      "{'name': 'fifi', 'breed': 'American Shorthair Cat'}\n"
     ]
    }
   ],
   "source": [
    "print(\"cat_(x).__dict__ /\\ Note absence of 'counter' variable \".center(120,\"-\"))\n",
    "print()\n",
    "print(cat_1.__dict__) # print instance's entities\n",
    "print(cat_2.__dict__) # print instance's entities\n",
    "print(cat_3.__dict__) # print instance's entities"
   ]
  },
  {
   "cell_type": "code",
   "execution_count": 4,
   "id": "ee93ad61",
   "metadata": {
    "scrolled": true
   },
   "outputs": [
    {
     "name": "stdout",
     "output_type": "stream",
     "text": [
      "--------------------cat_(x).counter /\\ explicitly access class variable from within instance object --------------------\n",
      "\n",
      "3\n",
      "3\n",
      "3\n",
      "\n",
      "---------------------------Cat.counter /\\ explicitly access class variable from itself name ----------------------------\n",
      "\n",
      "3\n"
     ]
    }
   ],
   "source": [
    "print(\"cat_(x).counter /\\ explicitly access class variable from within instance object \".center(120,\"-\"))\n",
    "print()\n",
    "print(cat_1.counter) # print class variable like as a instance variable\n",
    "print(cat_2.counter) # print class variable like as a instance variable\n",
    "print(cat_3.counter) # print class variable like as a instance variable\n",
    "print()\n",
    "print(\"Cat.counter /\\ explicitly access class variable from itself name \".center(120,\"-\"))\n",
    "print()\n",
    "print(Cat.counter)"
   ]
  },
  {
   "cell_type": "code",
   "execution_count": 5,
   "id": "2293852c",
   "metadata": {},
   "outputs": [
    {
     "name": "stdout",
     "output_type": "stream",
     "text": [
      "--------------------------------_Cat.__group /\\ explicitly access mangled class variable--------------------------------\n",
      "\n",
      "Mammals\n"
     ]
    }
   ],
   "source": [
    "# access private class variable\n",
    "print(\"_Cat.__group /\\ explicitly access mangled class variable\".center(120,\"-\"))\n",
    "print()\n",
    "print(Cat._Cat__group)"
   ]
  },
  {
   "cell_type": "code",
   "execution_count": 6,
   "id": "1642f305",
   "metadata": {},
   "outputs": [
    {
     "name": "stdout",
     "output_type": "stream",
     "text": [
      "Cats grouped under Mammals\n",
      "\n",
      "Family Cats is Felidae\n"
     ]
    }
   ],
   "source": [
    "# Use hasattr function to check class variables\n",
    "if hasattr(Cat, \"_Cat__group\"):\n",
    "    print(\"Cats grouped under %s\" % Cat._Cat__group)\n",
    "else:\n",
    "    print(\"No group found\")\n",
    "print()\n",
    "if hasattr(Cat, \"family\"):\n",
    "    print(\"Family Cats is {}\".format(Cat.family))\n",
    "else:\n",
    "    print(\"No family found\")"
   ]
  },
  {
   "cell_type": "code",
   "execution_count": 8,
   "id": "97f76dba",
   "metadata": {},
   "outputs": [
    {
     "name": "stdout",
     "output_type": "stream",
     "text": [
      "__main__\n",
      "\n",
      "Cat\n"
     ]
    }
   ],
   "source": [
    "# Attribute __model__ & __name__\n",
    "print(Cat.__module__)\n",
    "print()\n",
    "print(Cat.__name__)\n",
    "print()\n",
    "print(__init__)"
   ]
  }
 ],
 "metadata": {
  "kernelspec": {
   "display_name": "Python 3 (ipykernel)",
   "language": "python",
   "name": "python3"
  },
  "language_info": {
   "codemirror_mode": {
    "name": "ipython",
    "version": 3
   },
   "file_extension": ".py",
   "mimetype": "text/x-python",
   "name": "python",
   "nbconvert_exporter": "python",
   "pygments_lexer": "ipython3",
   "version": "3.9.13"
  }
 },
 "nbformat": 4,
 "nbformat_minor": 5
}
