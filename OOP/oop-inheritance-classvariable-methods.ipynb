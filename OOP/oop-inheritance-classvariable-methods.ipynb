{
 "cells": [
  {
   "cell_type": "code",
   "execution_count": 1,
   "id": "0b673ea9",
   "metadata": {},
   "outputs": [],
   "source": [
    "class Vehicle:\n",
    "    message = \"Hi from Vehicle Class\" # class variable\n",
    "    def __init__(self,speed):\n",
    "        self.speed = speed\n",
    "class LandVehicle(Vehicle):\n",
    "    def __init__(self,speed, wheel_count):\n",
    "        super().__init__(speed)\n",
    "        self.wheel_count = wheel_count\n",
    "        print(super().message)\n",
    "    def speedUp(self):\n",
    "        self.speed += 5\n",
    "class Car(LandVehicle):\n",
    "    def speedUp(self): #override superclass method\n",
    "        super().speedUp()\n",
    "        self.speed += 20"
   ]
  },
  {
   "cell_type": "code",
   "execution_count": 2,
   "id": "5041a863",
   "metadata": {
    "scrolled": true
   },
   "outputs": [
    {
     "name": "stdout",
     "output_type": "stream",
     "text": [
      "Hi from Vehicle Class\n",
      "\n",
      "{'speed': 20, 'wheel_count': 4}\n"
     ]
    }
   ],
   "source": [
    "mycar = Car(20,4)\n",
    "print()\n",
    "print(mycar.__dict__)"
   ]
  },
  {
   "cell_type": "code",
   "execution_count": 3,
   "id": "41ddde16",
   "metadata": {},
   "outputs": [
    {
     "name": "stdout",
     "output_type": "stream",
     "text": [
      "45\n",
      "\n",
      "{'speed': 45, 'wheel_count': 4}\n"
     ]
    }
   ],
   "source": [
    "mycar.speedUp()\n",
    "print(mycar.speed)\n",
    "print()\n",
    "print(mycar.__dict__)"
   ]
  }
 ],
 "metadata": {
  "kernelspec": {
   "display_name": "Python 3 (ipykernel)",
   "language": "python",
   "name": "python3"
  },
  "language_info": {
   "codemirror_mode": {
    "name": "ipython",
    "version": 3
   },
   "file_extension": ".py",
   "mimetype": "text/x-python",
   "name": "python",
   "nbconvert_exporter": "python",
   "pygments_lexer": "ipython3",
   "version": "3.9.13"
  }
 },
 "nbformat": 4,
 "nbformat_minor": 5
}
