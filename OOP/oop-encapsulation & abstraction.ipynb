{
 "cells": [
  {
   "cell_type": "code",
   "execution_count": 1,
   "id": "18ffad47",
   "metadata": {},
   "outputs": [],
   "source": [
    "# encapsulation with __\n",
    "class Car:\n",
    "    def __init__(self, color, model, speed):\n",
    "       \n",
    "        self.__color = color # private attribute\n",
    "        self.__model = model\n",
    "        if speed is <0:\n",
    "            self.__speed = 0\n",
    "        else:\n",
    "            self.__speed = speed\n",
    "        self.__speed = speed\n",
    "    def __str__(self):\n",
    "        return f\"Your car color is {self.__color}, and its model is {self.__model}, and its speed is {self.__speed} km/h.\"\n",
    "    \n",
    "    def speedUp(self,speed):\n",
    "        if self.__speed+speed >= 240:\n",
    "            print(\"Can't speed up!!!\")\n",
    "            return\n",
    "        self.__speed += speed\n",
    "    def speedDown(self, speed):\n",
    "        if self.__speed-speed <= 0:\n",
    "            print(\"Can't slow down!!!\")\n",
    "            return\n",
    "        self.__speed -= speed \n",
    "        \n",
    "    def showSpeed(self):\n",
    "        print(f\"Current speed is {self.__speed} km/h\")"
   ]
  },
  {
   "cell_type": "code",
   "execution_count": 2,
   "id": "f83f4804",
   "metadata": {},
   "outputs": [
    {
     "name": "stdout",
     "output_type": "stream",
     "text": [
      "Your car color is Blue, and its model is Mercedes, and its speed is 0 km/h.\n",
      "Can't slow down!!!\n",
      "Current speed is 4 km/h\n"
     ]
    }
   ],
   "source": [
    "mycar = Car(\"Blue\", \"Mercedes\", 0)\n",
    "print(mycar)\n",
    "mycar.speedUp(4)\n",
    "mycar.speedDown(10)\n",
    "mycar.showSpeed()"
   ]
  },
  {
   "cell_type": "code",
   "execution_count": 4,
   "id": "f0719d98",
   "metadata": {},
   "outputs": [
    {
     "name": "stdout",
     "output_type": "stream",
     "text": [
      "['_Car__color', '_Car__model', '_Car__speed', '__class__', '__delattr__', '__dict__', '__dir__', '__doc__', '__eq__', '__format__', '__ge__', '__getattribute__', '__gt__', '__hash__', '__init__', '__init_subclass__', '__le__', '__lt__', '__module__', '__ne__', '__new__', '__reduce__', '__reduce_ex__', '__repr__', '__setattr__', '__sizeof__', '__speed', '__str__', '__subclasshook__', '__weakref__', 'showSpeed', 'speedDown', 'speedUp']\n",
      "True\n",
      "Current speed is 4 km/h\n"
     ]
    }
   ],
   "source": [
    "# access instance attribute raise error name\n",
    "mycar.__speed = 10\n",
    "print(dir(mycar))\n",
    "print(hasattr(mycar, \"__speed\"))\n",
    "mycar.showSpeed()"
   ]
  }
 ],
 "metadata": {
  "kernelspec": {
   "display_name": "Python 3 (ipykernel)",
   "language": "python",
   "name": "python3"
  },
  "language_info": {
   "codemirror_mode": {
    "name": "ipython",
    "version": 3
   },
   "file_extension": ".py",
   "mimetype": "text/x-python",
   "name": "python",
   "nbconvert_exporter": "python",
   "pygments_lexer": "ipython3",
   "version": "3.9.13"
  }
 },
 "nbformat": 4,
 "nbformat_minor": 5
}
