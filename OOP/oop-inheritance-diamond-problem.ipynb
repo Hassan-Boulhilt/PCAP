{
 "cells": [
  {
   "cell_type": "code",
   "execution_count": 1,
   "id": "be2656b0",
   "metadata": {},
   "outputs": [],
   "source": [
    "class Vehicle:\n",
    "    pass\n",
    "class LandVehicle(Vehicle):\n",
    "    def repr(self):\n",
    "        print(\"Hi from LandVehicle\")\n",
    "class SeaVehicle(Vehicle):\n",
    "    def repr(self):\n",
    "        print(\"Hi from SeaVehicle\")\n",
    "class AmphibiousCar(SeaVehicle, LandVehicle):\n",
    "    pass\n",
    " \n"
   ]
  },
  {
   "cell_type": "code",
   "execution_count": 2,
   "id": "831b2322",
   "metadata": {},
   "outputs": [
    {
     "name": "stdout",
     "output_type": "stream",
     "text": [
      "Hi from SeaVehicle\n"
     ]
    }
   ],
   "source": [
    "myambCar = AmphibiousCar()\n",
    "myambCar.repr()#print \"hi from SeaVehicle\" MRO Rules left to right"
   ]
  },
  {
   "cell_type": "code",
   "execution_count": 6,
   "id": "9799799a",
   "metadata": {},
   "outputs": [],
   "source": [
    "class Vehicle:\n",
    "    pass\n",
    "class LandVehicle(Vehicle):\n",
    "    def repr(self):\n",
    "        print(\"Hi from LandVehicle\")\n",
    "class SeaVehicle(Vehicle):\n",
    "    def repr(self):\n",
    "        print(\"Hi from SeaVehicle\")\n",
    "class AmphibiousCar(LandVehicle, SeaVehicle):\n",
    "    pass\n",
    " "
   ]
  },
  {
   "cell_type": "code",
   "execution_count": 7,
   "id": "b23d7ecc",
   "metadata": {},
   "outputs": [
    {
     "name": "stdout",
     "output_type": "stream",
     "text": [
      "Hi from LandVehicle\n"
     ]
    }
   ],
   "source": [
    "myambCar = AmphibiousCar()\n",
    "myambCar.repr()#print \"hi from  LandVehicle\" MRO Rules left to right"
   ]
  }
 ],
 "metadata": {
  "kernelspec": {
   "display_name": "Python 3 (ipykernel)",
   "language": "python",
   "name": "python3"
  },
  "language_info": {
   "codemirror_mode": {
    "name": "ipython",
    "version": 3
   },
   "file_extension": ".py",
   "mimetype": "text/x-python",
   "name": "python",
   "nbconvert_exporter": "python",
   "pygments_lexer": "ipython3",
   "version": "3.9.13"
  }
 },
 "nbformat": 4,
 "nbformat_minor": 5
}
