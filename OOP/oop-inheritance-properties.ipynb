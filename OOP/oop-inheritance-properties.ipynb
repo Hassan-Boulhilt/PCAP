{
 "cells": [
  {
   "cell_type": "code",
   "execution_count": 1,
   "id": "c8c01495",
   "metadata": {},
   "outputs": [],
   "source": [
    "class Vehicle:\n",
    "    pass\n",
    "class LandVehicle(Vehicle):\n",
    "    pass\n",
    "class Car(LandVehicle):\n",
    "    pass\n"
   ]
  },
  {
   "cell_type": "code",
   "execution_count": 2,
   "id": "167d6d95",
   "metadata": {},
   "outputs": [
    {
     "name": "stdout",
     "output_type": "stream",
     "text": [
      "{'__module__': '__main__', '__doc__': None}\n"
     ]
    }
   ],
   "source": [
    "print(Car.__dict__)"
   ]
  },
  {
   "cell_type": "code",
   "execution_count": 3,
   "id": "abc1b628",
   "metadata": {},
   "outputs": [
    {
     "name": "stdout",
     "output_type": "stream",
     "text": [
      "{}\n"
     ]
    }
   ],
   "source": [
    "mycar = Car()\n",
    "print(mycar.__dict__)"
   ]
  },
  {
   "cell_type": "code",
   "execution_count": 4,
   "id": "ed1099ec",
   "metadata": {},
   "outputs": [],
   "source": [
    "class Vehicle:\n",
    "    def __init__(self,speed):\n",
    "        self.speed = speed\n",
    "class LandVehicle(Vehicle):\n",
    "    pass\n",
    "class Car(LandVehicle):\n",
    "    pass"
   ]
  },
  {
   "cell_type": "code",
   "execution_count": 5,
   "id": "6f163ecf",
   "metadata": {},
   "outputs": [
    {
     "ename": "TypeError",
     "evalue": "__init__() missing 1 required positional argument: 'speed'",
     "output_type": "error",
     "traceback": [
      "\u001b[1;31m---------------------------------------------------------------------------\u001b[0m",
      "\u001b[1;31mTypeError\u001b[0m                                 Traceback (most recent call last)",
      "\u001b[1;32m~\\AppData\\Local\\Temp\\ipykernel_8532\\1439897323.py\u001b[0m in \u001b[0;36m<module>\u001b[1;34m\u001b[0m\n\u001b[0;32m      1\u001b[0m \u001b[1;31m# Raise a TypeError exception because one positional argument is missing\u001b[0m\u001b[1;33m\u001b[0m\u001b[1;33m\u001b[0m\u001b[0m\n\u001b[1;32m----> 2\u001b[1;33m \u001b[0mmycar\u001b[0m \u001b[1;33m=\u001b[0m \u001b[0mCar\u001b[0m\u001b[1;33m(\u001b[0m\u001b[1;33m)\u001b[0m \u001b[1;31m# although Car class doesn't have a constructer, Python rules is if the given class doesn't have the constructer it will search for it in the nearest superclass\u001b[0m\u001b[1;33m\u001b[0m\u001b[1;33m\u001b[0m\u001b[0m\n\u001b[0m",
      "\u001b[1;31mTypeError\u001b[0m: __init__() missing 1 required positional argument: 'speed'"
     ]
    }
   ],
   "source": [
    "# Raise a TypeError exception because one positional argument is missing \n",
    "mycar = Car() # although Car class doesn't have a constructer, Python rules is if the given class doesn't have the constructer it will search for it in the nearest superclass"
   ]
  },
  {
   "cell_type": "code",
   "execution_count": 6,
   "id": "0857a5a1",
   "metadata": {
    "scrolled": false
   },
   "outputs": [
    {
     "name": "stdout",
     "output_type": "stream",
     "text": [
      "{'speed': 5}\n"
     ]
    }
   ],
   "source": [
    "mycar = Car(5) # instantiate an object Car with the Vehicule constructer\n",
    "print(mycar.__dict__) # print object mycar properties"
   ]
  },
  {
   "cell_type": "code",
   "execution_count": 7,
   "id": "16536264",
   "metadata": {},
   "outputs": [
    {
     "name": "stdout",
     "output_type": "stream",
     "text": [
      "{'__module__': '__main__', '__doc__': None}\n"
     ]
    }
   ],
   "source": [
    "print(Car.__dict__) # print class Car properties"
   ]
  },
  {
   "cell_type": "code",
   "execution_count": 8,
   "id": "4e10e031",
   "metadata": {},
   "outputs": [
    {
     "name": "stdout",
     "output_type": "stream",
     "text": [
      "{'__module__': '__main__', '__doc__': None}\n"
     ]
    }
   ],
   "source": [
    "print(LandVehicle.__dict__) # print class LandVehicle properties"
   ]
  },
  {
   "cell_type": "code",
   "execution_count": 9,
   "id": "6e6f24bc",
   "metadata": {},
   "outputs": [
    {
     "name": "stdout",
     "output_type": "stream",
     "text": [
      "{'__module__': '__main__', '__init__': <function Vehicle.__init__ at 0x0000022E47EC3700>, '__dict__': <attribute '__dict__' of 'Vehicle' objects>, '__weakref__': <attribute '__weakref__' of 'Vehicle' objects>, '__doc__': None}\n"
     ]
    }
   ],
   "source": [
    "print(Vehicle.__dict__)# print class Vehicle properties after the initialization"
   ]
  },
  {
   "cell_type": "code",
   "execution_count": 10,
   "id": "a6d9cadc",
   "metadata": {},
   "outputs": [],
   "source": [
    "class Vehicle:\n",
    "    def __init__(self,speed):\n",
    "        self.speed = speed\n",
    "class LandVehicle(Vehicle):\n",
    "    def __init__(self, wheel_count):\n",
    "        self.wheel_count = wheel_count\n",
    "class Car(LandVehicle):\n",
    "    pass"
   ]
  },
  {
   "cell_type": "code",
   "execution_count": 11,
   "id": "81f73642",
   "metadata": {},
   "outputs": [
    {
     "name": "stdout",
     "output_type": "stream",
     "text": [
      "{'wheel_count': 5}\n"
     ]
    }
   ],
   "source": [
    "mycar = Car(5) # instantiate an object Car with the LandVehicule constructer, nearest one\n",
    "print(mycar.__dict__) # print object mycar properties/ Note that we have no more speed property from the top superclass Vehicle"
   ]
  },
  {
   "cell_type": "code",
   "execution_count": 12,
   "id": "e386610e",
   "metadata": {},
   "outputs": [
    {
     "name": "stdout",
     "output_type": "stream",
     "text": [
      "{'__module__': '__main__', '__init__': <function LandVehicle.__init__ at 0x0000022E47EC34C0>, '__doc__': None}\n"
     ]
    }
   ],
   "source": [
    "print(LandVehicle.__dict__) # print class LandVehicle properties\n"
   ]
  },
  {
   "cell_type": "code",
   "execution_count": 13,
   "id": "3b48f618",
   "metadata": {},
   "outputs": [],
   "source": [
    "class Vehicle:\n",
    "    def __init__(self,speed):\n",
    "        self.speed = speed\n",
    "class LandVehicle(Vehicle):\n",
    "    def __init__(self,speed, wheel_count):\n",
    "        super().__init__(speed)\n",
    "        self.wheel_count = wheel_count\n",
    "class Car(LandVehicle):\n",
    "    pass"
   ]
  },
  {
   "cell_type": "code",
   "execution_count": 14,
   "id": "1ea68238",
   "metadata": {},
   "outputs": [
    {
     "name": "stdout",
     "output_type": "stream",
     "text": [
      "{'speed': 20, 'wheel_count': 4}\n"
     ]
    }
   ],
   "source": [
    "mycar = Car(20, 4) # instantiate an object Car with the LandVehicule constructer, nearest one\n",
    "print(mycar.__dict__) # print object mycar properties/ Note that we have our two properties "
   ]
  },
  {
   "cell_type": "code",
   "execution_count": 15,
   "id": "6a4cc48f",
   "metadata": {},
   "outputs": [
    {
     "data": {
      "text/plain": [
       "4"
      ]
     },
     "execution_count": 15,
     "metadata": {},
     "output_type": "execute_result"
    }
   ],
   "source": [
    "mycar.wheel_count # object instance can also access it's superclass variable\n"
   ]
  }
 ],
 "metadata": {
  "kernelspec": {
   "display_name": "Python 3 (ipykernel)",
   "language": "python",
   "name": "python3"
  },
  "language_info": {
   "codemirror_mode": {
    "name": "ipython",
    "version": 3
   },
   "file_extension": ".py",
   "mimetype": "text/x-python",
   "name": "python",
   "nbconvert_exporter": "python",
   "pygments_lexer": "ipython3",
   "version": "3.9.13"
  }
 },
 "nbformat": 4,
 "nbformat_minor": 5
}
