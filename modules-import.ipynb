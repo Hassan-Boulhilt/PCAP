{
 "cells": [
  {
   "cell_type": "code",
   "execution_count": 1,
   "id": "31936c8f",
   "metadata": {},
   "outputs": [],
   "source": [
    "import sys # import module to the current namespace "
   ]
  },
  {
   "cell_type": "code",
   "execution_count": 2,
   "id": "05cfd6c2",
   "metadata": {},
   "outputs": [],
   "source": [
    "import sys # import two modules or more to the current namespace  first way\n",
    "import math"
   ]
  },
  {
   "cell_type": "code",
   "execution_count": 3,
   "id": "0fc8ab67",
   "metadata": {},
   "outputs": [],
   "source": [
    "import sys, math # import modules or more to the current namespace  second way"
   ]
  },
  {
   "cell_type": "code",
   "execution_count": 4,
   "id": "0fd8b34e",
   "metadata": {},
   "outputs": [
    {
     "name": "stdout",
     "output_type": "stream",
     "text": [
      "__breakpointhook__\t__displayhook__\t__doc__\t__excepthook__\t__interactivehook__\t__loader__\t__name__\t__package__\t__spec__\t__stderr__\t__stdin__\t__stdout__\t__unraisablehook__\t_base_executable\t_clear_type_cache\t_current_frames\t_debugmallocstats\t_framework\t_getframe\t_git\t_home\t_xoptions\tabiflags\taddaudithook\tapi_version\targv\taudit\tbase_exec_prefix\tbase_prefix\tbreakpointhook\tbuiltin_module_names\tbyteorder\tcall_tracing\tcopyright\tdisplayhook\tdont_write_bytecode\texc_info\texcepthook\texec_prefix\texecutable\texit\tflags\tfloat_info\tfloat_repr_style\tget_asyncgen_hooks\tget_coroutine_origin_tracking_depth\tgetallocatedblocks\tgetdefaultencoding\tgetdlopenflags\tgetfilesystemencodeerrors\tgetfilesystemencoding\tgetprofile\tgetrecursionlimit\tgetrefcount\tgetsizeof\tgetswitchinterval\tgettrace\thash_info\thexversion\timplementation\tint_info\tintern\tis_finalizing\tmaxsize\tmaxunicode\tmeta_path\tmodules\tpath\tpath_hooks\tpath_importer_cache\tplatform\tplatlibdir\tprefix\tps1\tps2\tps3\tpycache_prefix\tset_asyncgen_hooks\tset_coroutine_origin_tracking_depth\tsetdlopenflags\tsetprofile\tsetrecursionlimit\tsetswitchinterval\tsettrace\tstderr\tstdin\tstdout\tthread_info\tunraisablehook\tversion\tversion_info\twarnoptions\t"
     ]
    }
   ],
   "source": [
    "import sys\n",
    "\n",
    "for name in dir(sys):\n",
    "    print(name, end=\"\\t\") # all entities that are exist in module sys will be displayed"
   ]
  },
  {
   "cell_type": "code",
   "execution_count": 5,
   "id": "aa46826a",
   "metadata": {},
   "outputs": [
    {
     "ename": "SystemExit",
     "evalue": "",
     "output_type": "error",
     "traceback": [
      "An exception has occurred, use %tb to see the full traceback.\n",
      "\u001b[0;31mSystemExit\u001b[0m\n"
     ]
    },
    {
     "name": "stderr",
     "output_type": "stream",
     "text": [
      "/home/hassan/anaconda3/lib/python3.9/site-packages/IPython/core/interactiveshell.py:3465: UserWarning: To exit: use 'exit', 'quit', or Ctrl-D.\n",
      "  warn(\"To exit: use 'exit', 'quit', or Ctrl-D.\", stacklevel=1)\n"
     ]
    }
   ],
   "source": [
    "sys.exit()"
   ]
  },
  {
   "cell_type": "code",
   "execution_count": 6,
   "id": "ed91978d",
   "metadata": {},
   "outputs": [
    {
     "name": "stdout",
     "output_type": "stream",
     "text": [
      "exit overrided \n"
     ]
    },
    {
     "ename": "SystemExit",
     "evalue": "",
     "output_type": "error",
     "traceback": [
      "An exception has occurred, use %tb to see the full traceback.\n",
      "\u001b[0;31mSystemExit\u001b[0m\n"
     ]
    }
   ],
   "source": [
    "def exit():\n",
    "    print(\"exit overrided \")\n",
    "exit()\n",
    "sys.exit()\n"
   ]
  },
  {
   "cell_type": "code",
   "execution_count": 7,
   "id": "8d3f8206",
   "metadata": {
    "scrolled": true
   },
   "outputs": [
    {
     "name": "stdout",
     "output_type": "stream",
     "text": [
      "exit overided \n"
     ]
    }
   ],
   "source": [
    "from sys import exit\n",
    "def exit():\n",
    "    print(\"exit overided \")\n",
    "exit() # will output my function and override the one imported from sys module"
   ]
  },
  {
   "cell_type": "code",
   "execution_count": 8,
   "id": "88b38852",
   "metadata": {},
   "outputs": [],
   "source": [
    "from sys import * # astrix will import all entities and make all available to that current namespace"
   ]
  },
  {
   "cell_type": "code",
   "execution_count": 9,
   "id": "2328a0f4",
   "metadata": {},
   "outputs": [],
   "source": [
    "import sys # to use its entities you must use the name module plus the name entity like sys.themodulename\n",
    "from sys import * #you use only the entity name without the module name name"
   ]
  },
  {
   "cell_type": "code",
   "execution_count": 10,
   "id": "f39ccdb7",
   "metadata": {},
   "outputs": [
    {
     "ename": "SystemExit",
     "evalue": "",
     "output_type": "error",
     "traceback": [
      "An exception has occurred, use %tb to see the full traceback.\n",
      "\u001b[0;31mSystemExit\u001b[0m\n"
     ]
    }
   ],
   "source": [
    "import sys as s # also we can import module and give it an alis like we did here \"s\" and use like below\n",
    "\n",
    "s.exit()"
   ]
  },
  {
   "cell_type": "code",
   "execution_count": 12,
   "id": "210f306e",
   "metadata": {},
   "outputs": [
    {
     "ename": "SystemExit",
     "evalue": "",
     "output_type": "error",
     "traceback": [
      "An exception has occurred, use %tb to see the full traceback.\n",
      "\u001b[0;31mSystemExit\u001b[0m\n"
     ]
    }
   ],
   "source": [
    "from sys import exit as e # also we can use alias to the entity or method here we have aliased exit with \"e\" \n",
    "e()"
   ]
  },
  {
   "cell_type": "code",
   "execution_count": null,
   "id": "e1123e0f",
   "metadata": {},
   "outputs": [],
   "source": []
  }
 ],
 "metadata": {
  "kernelspec": {
   "display_name": "Python 3 (ipykernel)",
   "language": "python",
   "name": "python3"
  },
  "language_info": {
   "codemirror_mode": {
    "name": "ipython",
    "version": 3
   },
   "file_extension": ".py",
   "mimetype": "text/x-python",
   "name": "python",
   "nbconvert_exporter": "python",
   "pygments_lexer": "ipython3",
   "version": "3.9.13"
  }
 },
 "nbformat": 4,
 "nbformat_minor": 5
}
