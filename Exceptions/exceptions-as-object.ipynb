{
 "cells": [
  {
   "cell_type": "code",
   "execution_count": 1,
   "id": "c07cd8a7",
   "metadata": {
    "scrolled": true
   },
   "outputs": [
    {
     "name": "stdout",
     "output_type": "stream",
     "text": [
      "invalid literal for int() with base 10: 'Hello!'\n",
      "invalid literal for int() with base 10: 'Hello!'\n"
     ]
    }
   ],
   "source": [
    "try:\n",
    "    i = int(\"Hello!\")\n",
    "except Exception as e:\n",
    "    print(e)\n",
    "    print(e.__str__())\n"
   ]
  },
  {
   "cell_type": "code",
   "execution_count": 25,
   "id": "4cf7c022",
   "metadata": {},
   "outputs": [
    {
     "name": "stdout",
     "output_type": "stream",
     "text": [
      "Exception\n",
      "GeneratorExit\n",
      "SystemExit\n",
      "KeyboardInterrupt\n",
      "CancelledError\n",
      "DebuggerInitializationError\n",
      "AbortThread\n"
     ]
    }
   ],
   "source": [
    "for subclass in BaseException.__subclasses__():# Exceptions are classes and objects\n",
    "    print(subclass.__name__)"
   ]
  },
  {
   "cell_type": "code",
   "execution_count": 28,
   "id": "19d9ed47",
   "metadata": {},
   "outputs": [
    {
     "name": "stdout",
     "output_type": "stream",
     "text": [
      "()\n"
     ]
    }
   ],
   "source": [
    "try:\n",
    "    raise Exception\n",
    "except Exception as e:    \n",
    "    print(e.args) # print an emty tuple \n"
   ]
  },
  {
   "cell_type": "code",
   "execution_count": 29,
   "id": "446abd67",
   "metadata": {},
   "outputs": [
    {
     "name": "stdout",
     "output_type": "stream",
     "text": [
      "('my exception',)\n"
     ]
    }
   ],
   "source": [
    "try:\n",
    "    raise Exception(\"my exception\")\n",
    "except Exception as e:\n",
    "    print(e.args)# print a tuple containing arguments passed to Exception class contructor / here one args\n",
    "\n",
    "   "
   ]
  },
  {
   "cell_type": "code",
   "execution_count": 31,
   "id": "246b1f9c",
   "metadata": {},
   "outputs": [
    {
     "name": "stdout",
     "output_type": "stream",
     "text": [
      "('my', 'exception')\n"
     ]
    }
   ],
   "source": [
    "try:\n",
    "    raise Exception(\"my\", \"exception\")\n",
    "except Exception as e:\n",
    "    print(e.args)# print a tuple containing arguments passed to Exception class contructor / here two args"
   ]
  },
  {
   "cell_type": "code",
   "execution_count": 32,
   "id": "7a13e418",
   "metadata": {},
   "outputs": [
    {
     "name": "stdout",
     "output_type": "stream",
     "text": [
      "('division by zero',)\n"
     ]
    }
   ],
   "source": [
    "try:\n",
    "    5/0\n",
    "except Exception as e:\n",
    "    print(e.args)# print a tuple containing the error type raised"
   ]
  }
 ],
 "metadata": {
  "kernelspec": {
   "display_name": "Python 3 (ipykernel)",
   "language": "python",
   "name": "python3"
  },
  "language_info": {
   "codemirror_mode": {
    "name": "ipython",
    "version": 3
   },
   "file_extension": ".py",
   "mimetype": "text/x-python",
   "name": "python",
   "nbconvert_exporter": "python",
   "pygments_lexer": "ipython3",
   "version": "3.9.13"
  }
 },
 "nbformat": 4,
 "nbformat_minor": 5
}
