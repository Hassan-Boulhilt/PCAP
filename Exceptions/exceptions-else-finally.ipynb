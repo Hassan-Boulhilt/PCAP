{
 "cells": [
  {
   "cell_type": "code",
   "execution_count": 3,
   "id": "1dac3ca2",
   "metadata": {},
   "outputs": [
    {
     "name": "stdout",
     "output_type": "stream",
     "text": [
      "Enter a number? 0\n",
      "Something went wrong!\n"
     ]
    }
   ],
   "source": [
    "# else will not execute if the except raised\n",
    "try:\n",
    "    value = int(input(\"Enter a number? \"))\n",
    "    print(1 / value)\n",
    "except:\n",
    "    print(\"Something went wrong!\")\n",
    "else:\n",
    "    print(\"everything is right\")"
   ]
  },
  {
   "cell_type": "code",
   "execution_count": 4,
   "id": "c3d5ee70",
   "metadata": {},
   "outputs": [
    {
     "name": "stdout",
     "output_type": "stream",
     "text": [
      "Enter a number? 10\n",
      "0.1\n",
      "everything is right\n"
     ]
    }
   ],
   "source": [
    "# else execute if the except not raised\n",
    "try:\n",
    "    value = int(input(\"Enter a number? \"))\n",
    "    print(1 / value)\n",
    "except:\n",
    "    print(\"Something went wrong!\")\n",
    "else:\n",
    "    print(\"everything is right\")"
   ]
  },
  {
   "cell_type": "code",
   "execution_count": 5,
   "id": "8577cb10",
   "metadata": {},
   "outputs": [
    {
     "name": "stdout",
     "output_type": "stream",
     "text": [
      "Enter a number? 0\n",
      "Something went wrong!\n",
      "End of programe\n"
     ]
    }
   ],
   "source": [
    "# finally always excuted no mutter if except is raised or not\n",
    "try:\n",
    "    value = int(input(\"Enter a number? \"))\n",
    "    print(1 / value)\n",
    "except:\n",
    "    print(\"Something went wrong!\")\n",
    "else:\n",
    "    print(\"everything is right\")\n",
    "finally:\n",
    "    print(\"End of programe\")"
   ]
  },
  {
   "cell_type": "code",
   "execution_count": 6,
   "id": "620f01e3",
   "metadata": {},
   "outputs": [
    {
     "name": "stdout",
     "output_type": "stream",
     "text": [
      "Enter a number? 10\n",
      "0.1\n",
      "everything is right\n",
      "End of programe\n"
     ]
    }
   ],
   "source": [
    "# finally always excuted no matter if except is raised or not / ALSO IT CAN BE USED TO CLOSE DATABASE CONNECTION AFTER A SUCCED OR A FAILURE DATABASE'S OPERATIONS\n",
    "try:\n",
    "    value = int(input(\"Enter a number? \"))\n",
    "    print(1 / value)\n",
    "except:\n",
    "    print(\"Something went wrong!\")\n",
    "else:\n",
    "    print(\"everything is right\")\n",
    "finally:\n",
    "    print(\"End of programe\")"
   ]
  }
 ],
 "metadata": {
  "kernelspec": {
   "display_name": "Python 3 (ipykernel)",
   "language": "python",
   "name": "python3"
  },
  "language_info": {
   "codemirror_mode": {
    "name": "ipython",
    "version": 3
   },
   "file_extension": ".py",
   "mimetype": "text/x-python",
   "name": "python",
   "nbconvert_exporter": "python",
   "pygments_lexer": "ipython3",
   "version": "3.9.13"
  }
 },
 "nbformat": 4,
 "nbformat_minor": 5
}
