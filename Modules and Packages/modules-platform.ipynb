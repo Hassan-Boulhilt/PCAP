{
 "cells": [
  {
   "cell_type": "code",
   "execution_count": 28,
   "id": "41751f63",
   "metadata": {},
   "outputs": [
    {
     "name": "stdout",
     "output_type": "stream",
     "text": [
      "_Processor\t_WIN32_CLIENT_RELEASES\t_WIN32_SERVER_RELEASES\t__builtins__\t__cached__\t__copyright__\t__doc__\t__file__\t__loader__\t__name__\t__package__\t__spec__\t__version__\t_comparable_version\t_component_re\t_default_architecture\t_follow_symlinks\t_get_machine_win32\t_ironpython26_sys_version_parser\t_ironpython_sys_version_parser\t_java_getprop\t_libc_search\t_mac_ver_xml\t_node\t_norm_version\t_platform\t_platform_cache\t_pypy_sys_version_parser\t_sys_version\t_sys_version_cache\t_sys_version_parser\t_syscmd_file\t_syscmd_ver\t_uname_cache\t_unknown_as_blank\t_ver_output\t_ver_stages\tarchitecture\tcollections\tfunctools\titertools\tjava_ver\tlibc_ver\tmac_ver\tmachine\tnode\tos\tplatform\tprocessor\tpython_branch\tpython_build\tpython_compiler\tpython_implementation\tpython_revision\tpython_version\tpython_version_tuple\tre\trelease\tsubprocess\tsys\tsystem\tsystem_alias\tuname\tuname_result\tversion\twin32_edition\twin32_is_iot\twin32_ver\t"
     ]
    }
   ],
   "source": [
    "import platform\n",
    "for name in dir(platform):\n",
    "    print(name, end=\"\\t\")"
   ]
  },
  {
   "cell_type": "code",
   "execution_count": 14,
   "id": "47e2a75a",
   "metadata": {},
   "outputs": [
    {
     "name": "stdout",
     "output_type": "stream",
     "text": [
      "Linux-5.15.0-57-generic-x86_64-with-glibc2.35\n"
     ]
    }
   ],
   "source": [
    "import platform # returns the environment where your code is executed as string\n",
    "# aliased present an alternative name of underlying layer hardware, the terse present a briefer form of the result (if possible)\n",
    "\n",
    "print(platform.platform(aliased=0, terse=0))"
   ]
  },
  {
   "cell_type": "code",
   "execution_count": 17,
   "id": "b3f82242",
   "metadata": {},
   "outputs": [
    {
     "name": "stdout",
     "output_type": "stream",
     "text": [
      "x86_64\n"
     ]
    }
   ],
   "source": [
    "print(platform.machine())# returns the generic name of the processor as string"
   ]
  },
  {
   "cell_type": "code",
   "execution_count": 20,
   "id": "cbfc11d7",
   "metadata": {
    "scrolled": true
   },
   "outputs": [
    {
     "name": "stdout",
     "output_type": "stream",
     "text": [
      "x86_64\n"
     ]
    }
   ],
   "source": [
    "print(platform.processor())# returns the real name of the processor as string for some platform it returns the same name as machine method returns"
   ]
  },
  {
   "cell_type": "code",
   "execution_count": 2,
   "id": "868610f1",
   "metadata": {},
   "outputs": [
    {
     "name": "stdout",
     "output_type": "stream",
     "text": [
      "Intel64 Family 6 Model 58 Stepping 9, GenuineIntel\n"
     ]
    }
   ],
   "source": [
    "#on Windows\n",
    "\n",
    "import platform\n",
    "print(platform.processor())# returns the real name of the processor as string "
   ]
  },
  {
   "cell_type": "code",
   "execution_count": 13,
   "id": "a4c8d3d0",
   "metadata": {},
   "outputs": [
    {
     "name": "stdout",
     "output_type": "stream",
     "text": [
      "AMD64\n"
     ]
    }
   ],
   "source": [
    "#on Windows\n",
    "\n",
    "print(platform.machine()) # returns the generic name of the processor as string"
   ]
  },
  {
   "cell_type": "code",
   "execution_count": 15,
   "id": "d28b846a",
   "metadata": {
    "scrolled": true
   },
   "outputs": [
    {
     "name": "stdout",
     "output_type": "stream",
     "text": [
      "Windows-10-10.0.19044-SP0\n",
      "Windows-10-10.0.19044-SP0\n",
      "Windows-10\n"
     ]
    }
   ],
   "source": [
    "#on Windows\n",
    "\n",
    "print(platform.platform())\n",
    "print(platform.platform(aliased=1))\n",
    "print(platform.platform(aliased=0, terse=1))"
   ]
  },
  {
   "cell_type": "code",
   "execution_count": 16,
   "id": "8faf619f",
   "metadata": {},
   "outputs": [
    {
     "name": "stdout",
     "output_type": "stream",
     "text": [
      "Windows\n"
     ]
    }
   ],
   "source": [
    "# on Windows\n",
    "\n",
    "print(platform.system())# returns the generic operating system as string"
   ]
  },
  {
   "cell_type": "code",
   "execution_count": 21,
   "id": "ed88d814",
   "metadata": {},
   "outputs": [
    {
     "name": "stdout",
     "output_type": "stream",
     "text": [
      "Linux\n"
     ]
    }
   ],
   "source": [
    "print(platform.system())# returns the generic operating system as string"
   ]
  },
  {
   "cell_type": "code",
   "execution_count": 25,
   "id": "ca2a5642",
   "metadata": {},
   "outputs": [
    {
     "name": "stdout",
     "output_type": "stream",
     "text": [
      "CPython\n"
     ]
    }
   ],
   "source": [
    "print(platform.python_implementation())# return the implementation of python here is \"Cpython\" as string"
   ]
  },
  {
   "cell_type": "code",
   "execution_count": 29,
   "id": "f5a96a24",
   "metadata": {},
   "outputs": [
    {
     "name": "stdout",
     "output_type": "stream",
     "text": [
      "#63-Ubuntu SMP Thu Nov 24 13:43:17 UTC 2022\n"
     ]
    }
   ],
   "source": [
    "print(platform.version()) # returns version of operating system as string "
   ]
  },
  {
   "cell_type": "code",
   "execution_count": 17,
   "id": "ffb8982c",
   "metadata": {},
   "outputs": [
    {
     "name": "stdout",
     "output_type": "stream",
     "text": [
      "10.0.19044\n"
     ]
    }
   ],
   "source": [
    "# on Windows\n",
    "\n",
    "print(platform.version()) # returns version of operating system as string "
   ]
  },
  {
   "cell_type": "code",
   "execution_count": 27,
   "id": "9215758e",
   "metadata": {},
   "outputs": [
    {
     "name": "stdout",
     "output_type": "stream",
     "text": [
      "3.9.13\n"
     ]
    }
   ],
   "source": [
    "print(platform.python_version())# returns the python version major.minor.patch as string"
   ]
  },
  {
   "cell_type": "code",
   "execution_count": 28,
   "id": "3e979a08",
   "metadata": {},
   "outputs": [
    {
     "name": "stdout",
     "output_type": "stream",
     "text": [
      "('3', '9', '13')\n"
     ]
    }
   ],
   "source": [
    "print(platform.python_version_tuple())# returns the python version ('major', 'minor', 'patch') as tuple"
   ]
  }
 ],
 "metadata": {
  "kernelspec": {
   "display_name": "Python 3 (ipykernel)",
   "language": "python",
   "name": "python3"
  },
  "language_info": {
   "codemirror_mode": {
    "name": "ipython",
    "version": 3
   },
   "file_extension": ".py",
   "mimetype": "text/x-python",
   "name": "python",
   "nbconvert_exporter": "python",
   "pygments_lexer": "ipython3",
   "version": "3.9.13"
  }
 },
 "nbformat": 4,
 "nbformat_minor": 5
}
