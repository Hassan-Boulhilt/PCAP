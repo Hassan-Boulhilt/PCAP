{
 "cells": [
  {
   "cell_type": "code",
   "execution_count": 1,
   "id": "aa0b9a47",
   "metadata": {},
   "outputs": [
    {
     "name": "stdout",
     "output_type": "stream",
     "text": [
      "0.6361247646549639\n",
      "0.9446830558904551\n",
      "0.3455543388893002\n"
     ]
    }
   ],
   "source": [
    "import random # import random and use it with default seed based on the current time\n",
    "\n",
    "print(random.random()) # print random pseudo random number between 0 and 1\n",
    "print(random.random()) # print random pseudo random number between 0 and 1\n",
    "print(random.random()) # print random pseudo random number between 0 and 1"
   ]
  },
  {
   "cell_type": "code",
   "execution_count": 2,
   "id": "ab11458d",
   "metadata": {},
   "outputs": [
    {
     "name": "stdout",
     "output_type": "stream",
     "text": [
      "0.9560342718892494\n",
      "0.9478274870593494\n",
      "0.05655136772680869\n"
     ]
    }
   ],
   "source": [
    "# use random with predefined seed\n",
    "\n",
    "random.seed(2)\n",
    "print(random.random())\n",
    "print(random.random())\n",
    "print(random.random())"
   ]
  },
  {
   "cell_type": "code",
   "execution_count": 3,
   "id": "fa28599d",
   "metadata": {},
   "outputs": [
    {
     "name": "stdout",
     "output_type": "stream",
     "text": [
      "0.9560342718892494\n",
      "0.9478274870593494\n",
      "0.05655136772680869\n"
     ]
    }
   ],
   "source": [
    "# use random with predefined seed again second time\n",
    "\n",
    "random.seed(2)\n",
    "print(random.random()) #the same pseudo random number above 0.9560342718892494\n",
    "print(random.random()) #the same pseudo random number above 0.9478274870593494\n",
    "print(random.random()) #the same pseudo random number above 0.05655136772680869"
   ]
  },
  {
   "cell_type": "code",
   "execution_count": 4,
   "id": "74060c74",
   "metadata": {},
   "outputs": [
    {
     "name": "stdout",
     "output_type": "stream",
     "text": [
      "1\n",
      "morad\n",
      "karim\n",
      "morad\n",
      "morad\n"
     ]
    }
   ],
   "source": [
    "# randome.choice method operating on sequences like list and string also it returns DUPLICATE elements which you don't want it\n",
    "numbers = [1, 2, 9, 5, 6, 7, 10]\n",
    "names = [\"hassan\", \"karim\", \"morad\", \"ali\"]\n",
    "print(random.choice(numbers)) # list randomness \n",
    "\n",
    "\n",
    "for i in names:\n",
    "    print(random.choice(names)) #can print duplicate elements "
   ]
  },
  {
   "cell_type": "code",
   "execution_count": 5,
   "id": "a943ba65",
   "metadata": {
    "scrolled": true
   },
   "outputs": [
    {
     "data": {
      "text/plain": [
       "'a'"
      ]
     },
     "execution_count": 5,
     "metadata": {},
     "output_type": "execute_result"
    }
   ],
   "source": [
    "random.choice(\"hassan\")# choice method operating on string sequence"
   ]
  },
  {
   "cell_type": "code",
   "execution_count": 6,
   "id": "3d125ce7",
   "metadata": {
    "scrolled": true
   },
   "outputs": [
    {
     "name": "stdout",
     "output_type": "stream",
     "text": [
      "['karim', 'morad']\n"
     ]
    }
   ],
   "source": [
    "# random.sample method operating on sequences that returns elements without DUPLICATION\n",
    "# sample method take two arguments the first one= sequence, list. the last one=the size of elements returned.\n",
    "print(random.sample(names, 2)) # the second argument must not be greater than the length of the sequence \n"
   ]
  },
  {
   "cell_type": "code",
   "execution_count": 7,
   "id": "7b3ad135",
   "metadata": {},
   "outputs": [
    {
     "name": "stdout",
     "output_type": "stream",
     "text": [
      "0\n",
      "2\n",
      "3\n"
     ]
    }
   ],
   "source": [
    "# random.randrange(start, end, step) returns pseudo random number with exclusion of the end element\n",
    "print(random.randrange(5))\n",
    "print(random.randrange(1, 5)) # print number 1 or 2 or 3 or 4\n",
    "print(random.randrange(1, 5, 2)) # print 1 or 3\n",
    "    "
   ]
  },
  {
   "cell_type": "code",
   "execution_count": 8,
   "id": "4525b0d3",
   "metadata": {},
   "outputs": [
    {
     "name": "stdout",
     "output_type": "stream",
     "text": [
      "4\n"
     ]
    }
   ],
   "source": [
    "# random.randint(left, right) returns pseudo random number with inclusion of the right element\n",
    "print(random.randint(1,5)) # print number 1 or 2 or 3 or 4 or 5"
   ]
  }
 ],
 "metadata": {
  "kernelspec": {
   "display_name": "Python 3 (ipykernel)",
   "language": "python",
   "name": "python3"
  },
  "language_info": {
   "codemirror_mode": {
    "name": "ipython",
    "version": 3
   },
   "file_extension": ".py",
   "mimetype": "text/x-python",
   "name": "python",
   "nbconvert_exporter": "python",
   "pygments_lexer": "ipython3",
   "version": "3.9.13"
  }
 },
 "nbformat": 4,
 "nbformat_minor": 5
}
