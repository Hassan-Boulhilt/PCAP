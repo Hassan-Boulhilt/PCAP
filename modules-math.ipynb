{
 "cells": [
  {
   "cell_type": "code",
   "execution_count": 1,
   "id": "3b028ac1",
   "metadata": {},
   "outputs": [
    {
     "name": "stdout",
     "output_type": "stream",
     "text": [
      "__doc__\t__file__\t__loader__\t__name__\t__package__\t__spec__\tacos\tacosh\tasin\tasinh\tatan\tatan2\tatanh\tceil\tcomb\tcopysign\tcos\tcosh\tdegrees\tdist\te\terf\terfc\texp\texpm1\tfabs\tfactorial\tfloor\tfmod\tfrexp\tfsum\tgamma\tgcd\thypot\tinf\tisclose\tisfinite\tisinf\tisnan\tisqrt\tlcm\tldexp\tlgamma\tlog\tlog10\tlog1p\tlog2\tmodf\tnan\tnextafter\tperm\tpi\tpow\tprod\tradians\tremainder\tsin\tsinh\tsqrt\ttan\ttanh\ttau\ttrunc\tulp\t"
     ]
    }
   ],
   "source": [
    "import math\n",
    "for name in dir(math):\n",
    "    print(name, end=\"\\t\")"
   ]
  },
  {
   "cell_type": "code",
   "execution_count": 2,
   "id": "a1bfdd1d",
   "metadata": {},
   "outputs": [
    {
     "name": "stdout",
     "output_type": "stream",
     "text": [
      "5\n",
      "4\n",
      "4\n"
     ]
    }
   ],
   "source": [
    "# ceil()    floor()    trunc()\n",
    "\n",
    "print(math.ceil(4.5))\n",
    "print(math.floor(4.5))\n",
    "print(math.trunc(4.5))"
   ]
  },
  {
   "cell_type": "code",
   "execution_count": 3,
   "id": "3b61221a",
   "metadata": {},
   "outputs": [
    {
     "name": "stdout",
     "output_type": "stream",
     "text": [
      "5\n",
      "5\n",
      "5\n",
      "4\n",
      "-4\n"
     ]
    }
   ],
   "source": [
    "# ceil() returns the nearest greater or equal value of a given argument number\n",
    "\n",
    "print(math.ceil(4.5))\n",
    "print(math.ceil(4.505))\n",
    "print(math.ceil(4.900))\n",
    "print(math.ceil(4.0))\n",
    "print(math.ceil(-4.5))"
   ]
  },
  {
   "cell_type": "code",
   "execution_count": 4,
   "id": "ad8e68d5",
   "metadata": {},
   "outputs": [
    {
     "name": "stdout",
     "output_type": "stream",
     "text": [
      "4\n",
      "4\n",
      "4\n",
      "4\n",
      "-5\n"
     ]
    }
   ],
   "source": [
    "# floor() returns the nearest smaller or equal value of a given argument number\n",
    "\n",
    "print(math.floor(4.5))\n",
    "print(math.floor(4.505))\n",
    "print(math.floor(4.900))\n",
    "print(math.floor(4.0))\n",
    "print(math.floor(-4.5))"
   ]
  },
  {
   "cell_type": "code",
   "execution_count": 5,
   "id": "c7eeb87e",
   "metadata": {},
   "outputs": [
    {
     "name": "stdout",
     "output_type": "stream",
     "text": [
      "5\n",
      "5\n",
      "5\n",
      "4\n",
      "-4\n"
     ]
    }
   ],
   "source": [
    "# trunc() returns the truncated value of a given argument number\n",
    "\n",
    "print(math.ceil(4.5))\n",
    "print(math.ceil(4.505))\n",
    "print(math.ceil(4.900))\n",
    "print(math.ceil(4.0))\n",
    "print(math.ceil(-4.5))"
   ]
  },
  {
   "cell_type": "code",
   "execution_count": 6,
   "id": "2bee131d",
   "metadata": {},
   "outputs": [
    {
     "name": "stdout",
     "output_type": "stream",
     "text": [
      "6\n",
      "24\n"
     ]
    }
   ],
   "source": [
    "# factorial() \n",
    "\n",
    "print(math.factorial(3))   # 3! = (3 x 2 x 1) = 6\n",
    "print(math.factorial(4))   # 4! = (4 x 3 x 2 X 1) = 24"
   ]
  },
  {
   "cell_type": "code",
   "execution_count": 7,
   "id": "304966a8",
   "metadata": {},
   "outputs": [
    {
     "name": "stdout",
     "output_type": "stream",
     "text": [
      "4.0\n",
      "10.0\n"
     ]
    }
   ],
   "source": [
    "# squart() returns the squar root of a given number\n",
    "\n",
    "print(math.sqrt(16))    # returns a float number 4.0\n",
    "print(math.sqrt(100))   # returns a float number 10.0"
   ]
  },
  {
   "cell_type": "code",
   "execution_count": 8,
   "id": "54ec0bc5",
   "metadata": {},
   "outputs": [
    {
     "name": "stdout",
     "output_type": "stream",
     "text": [
      "8.602325267042627\n"
     ]
    }
   ],
   "source": [
    "# hypot() returns the hypotenuse of triangle hyp² = sidea² x sideb²\n",
    "\n",
    "print(math.hypot(5, 7))"
   ]
  },
  {
   "cell_type": "code",
   "execution_count": null,
   "id": "c67c5f68",
   "metadata": {},
   "outputs": [],
   "source": []
  }
 ],
 "metadata": {
  "kernelspec": {
   "display_name": "Python 3 (ipykernel)",
   "language": "python",
   "name": "python3"
  },
  "language_info": {
   "codemirror_mode": {
    "name": "ipython",
    "version": 3
   },
   "file_extension": ".py",
   "mimetype": "text/x-python",
   "name": "python",
   "nbconvert_exporter": "python",
   "pygments_lexer": "ipython3",
   "version": "3.9.13"
  }
 },
 "nbformat": 4,
 "nbformat_minor": 5
}
