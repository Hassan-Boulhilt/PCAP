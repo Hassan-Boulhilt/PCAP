{
 "cells": [
  {
   "cell_type": "code",
   "execution_count": 1,
   "id": "9945c463",
   "metadata": {},
   "outputs": [
    {
     "data": {
      "text/plain": [
       "1"
      ]
     },
     "execution_count": 1,
     "metadata": {},
     "output_type": "execute_result"
    }
   ],
   "source": [
    "# index(value, start, end)\n",
    "\n",
    "\"abcdefghijklmnopqrstuvwxyz\".index(\"b\")# returns the first occurrence of the specified value in a given string starting from 0 and raise error if not found"
   ]
  },
  {
   "cell_type": "code",
   "execution_count": 2,
   "id": "4c7b39ea",
   "metadata": {},
   "outputs": [
    {
     "ename": "ValueError",
     "evalue": "substring not found",
     "output_type": "error",
     "traceback": [
      "\u001b[0;31m---------------------------------------------------------------------------\u001b[0m",
      "\u001b[0;31mValueError\u001b[0m                                Traceback (most recent call last)",
      "\u001b[0;32m/tmp/ipykernel_20985/410460755.py\u001b[0m in \u001b[0;36m<module>\u001b[0;34m\u001b[0m\n\u001b[0;32m----> 1\u001b[0;31m \u001b[0;34m\"abcdefqrstuvwxyz\"\u001b[0m\u001b[0;34m.\u001b[0m\u001b[0mindex\u001b[0m\u001b[0;34m(\u001b[0m\u001b[0;34m\"g\"\u001b[0m\u001b[0;34m)\u001b[0m \u001b[0;31m# raise an error. also this method shared by list,tuple, string\u001b[0m\u001b[0;34m\u001b[0m\u001b[0;34m\u001b[0m\u001b[0m\n\u001b[0m",
      "\u001b[0;31mValueError\u001b[0m: substring not found"
     ]
    }
   ],
   "source": [
    "\"abcdefqrstuvwxyz\".index(\"g\") # raise an error. also this method shared by list,tuple, string"
   ]
  },
  {
   "cell_type": "code",
   "execution_count": 3,
   "id": "dd7574da",
   "metadata": {},
   "outputs": [
    {
     "data": {
      "text/plain": [
       "1"
      ]
     },
     "execution_count": 3,
     "metadata": {},
     "output_type": "execute_result"
    }
   ],
   "source": [
    "# find(value, start, end)\n",
    "\n",
    "\"abcdefghijklmnopqrstuvwxyz\".find(\"b\")# same as index returns the first occurrence of the specified value but will not raise error if is not found  "
   ]
  },
  {
   "cell_type": "code",
   "execution_count": 4,
   "id": "0290546f",
   "metadata": {},
   "outputs": [
    {
     "data": {
      "text/plain": [
       "-1"
      ]
     },
     "execution_count": 4,
     "metadata": {},
     "output_type": "execute_result"
    }
   ],
   "source": [
    "\"abcdefqrstuvwxyz\".find(\"g\")# will returns -1 if not found. also remember that find method works on string only "
   ]
  },
  {
   "cell_type": "code",
   "execution_count": 5,
   "id": "e55f2e3a",
   "metadata": {},
   "outputs": [
    {
     "name": "stdout",
     "output_type": "stream",
     "text": [
      "9\n",
      "1\n",
      "5\n",
      "1\n"
     ]
    }
   ],
   "source": [
    "# rfind(value, start, end) start searching from the end of string \n",
    "\n",
    "print(\"abijkblstb\".rfind(\"b\"))      # print 9 the first occurence from the right side   \n",
    "print(\"abijkblstb\".rfind(\"b\", 0, 2))# print 1 the first occurence from the right side between 0 inclusive and 2 exclusive\n",
    "print(\"abijkblstb\".rfind(\"b\", 2, 6))# print 5 the first occurence from the right side between 2 inclusive and 6 exclusive\n",
    "print(\"abijkblstb\".rfind(\"b\", 1, 5))# print 1 also 5 is index of the first occurrence from right side but exclusive and it will ignore it "
   ]
  },
  {
   "cell_type": "code",
   "execution_count": 6,
   "id": "d37e1e2d",
   "metadata": {},
   "outputs": [
    {
     "name": "stdout",
     "output_type": "stream",
     "text": [
      "True\n",
      "True\n",
      "True\n",
      "True\n",
      "False\n",
      "False\n"
     ]
    }
   ],
   "source": [
    "# isalnum() checks for alphabets+numeric or letters only or numbers only  like \"ansb123\" or \"124Anbg\" not \"12 hdg\" that contain space or other symboles. returns a boolean value True or False\n",
    "\n",
    "print(\"123\".isalnum())    # print True\n",
    "print(\"ansb\".isalnum())   # print True\n",
    "print(\"ansb123\".isalnum())# print True\n",
    "print(\"124Anbg\".isalnum())# print True\n",
    "print(\"12 hdg\".isalnum()) # print False\n",
    "print(\"12@hdg\".isalnum()) # print False"
   ]
  },
  {
   "cell_type": "code",
   "execution_count": 2,
   "id": "677494c5",
   "metadata": {
    "scrolled": true
   },
   "outputs": [
    {
     "name": "stdout",
     "output_type": "stream",
     "text": [
      "True\n",
      "False\n",
      "False\n",
      "False\n"
     ]
    }
   ],
   "source": [
    "# isalpha checks for letters and returns boolean value True or False\n",
    "\n",
    "print(\"ansb\".isalpha())   # print True\n",
    "print(\"124Anbg\".isalpha())# print False\n",
    "print(\"124\".isalpha())    # print False\n",
    "print(\"anb-az\".isalpha())"
   ]
  },
  {
   "cell_type": "code",
   "execution_count": 8,
   "id": "806b81f2",
   "metadata": {
    "scrolled": true
   },
   "outputs": [
    {
     "name": "stdout",
     "output_type": "stream",
     "text": [
      "True\n",
      "False\n",
      "False\n"
     ]
    }
   ],
   "source": [
    "# isdigit() checks for digits and returns boolean value True or False\n",
    "\n",
    "print(\"16278\".isdigit())  # print True\n",
    "print(\"124Anbg\".isdigit())# print False\n",
    "print(\"abd\".isdigit())    # print False"
   ]
  },
  {
   "cell_type": "code",
   "execution_count": 1,
   "id": "a928e4a5",
   "metadata": {},
   "outputs": [
    {
     "name": "stdout",
     "output_type": "stream",
     "text": [
      "False\n",
      "True\n",
      "False\n",
      "True\n",
      "False\n",
      "False\n",
      "False\n",
      "True\n",
      "True\n",
      "False\n"
     ]
    }
   ],
   "source": [
    "# islower(), isupper(), isspace() checks for lower case, upper case, space character( \\n \\t \\r...) and returns a boolean value True orr False\n",
    "\n",
    "print(\"Anbg\".islower())  # print False\n",
    "print(\"anbg\".islower())  # print True\n",
    "print(\"Anbg\".isupper())  # print False\n",
    "print(\"ANBG\".isupper())  # print True\n",
    "print(\"An bg\".isspace())  # print False\n",
    "print(\"An\\tbg\".isspace()) # print False\n",
    "print(\"Anbg\\n\".isspace()) # print False\n",
    "print(\" \".isspace())      # print True\n",
    "print(\"\\n\".isspace())     # print True\n",
    "print(\"-\".isspace())\n"
   ]
  }
 ],
 "metadata": {
  "kernelspec": {
   "display_name": "Python 3 (ipykernel)",
   "language": "python",
   "name": "python3"
  },
  "language_info": {
   "codemirror_mode": {
    "name": "ipython",
    "version": 3
   },
   "file_extension": ".py",
   "mimetype": "text/x-python",
   "name": "python",
   "nbconvert_exporter": "python",
   "pygments_lexer": "ipython3",
   "version": "3.9.13"
  }
 },
 "nbformat": 4,
 "nbformat_minor": 5
}
