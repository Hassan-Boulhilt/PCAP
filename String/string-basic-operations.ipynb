{
 "cells": [
  {
   "cell_type": "code",
   "execution_count": 1,
   "id": "7fb181da",
   "metadata": {},
   "outputs": [
    {
     "data": {
      "text/plain": [
       "11"
      ]
     },
     "execution_count": 1,
     "metadata": {},
     "output_type": "execute_result"
    }
   ],
   "source": [
    "len(\"hollo world\")# print the length of string here 11"
   ]
  },
  {
   "cell_type": "code",
   "execution_count": 2,
   "id": "0350108a",
   "metadata": {
    "scrolled": true
   },
   "outputs": [
    {
     "data": {
      "text/plain": [
       "0"
      ]
     },
     "execution_count": 2,
     "metadata": {},
     "output_type": "execute_result"
    }
   ],
   "source": [
    "len(\"\")# print 0"
   ]
  },
  {
   "cell_type": "code",
   "execution_count": 3,
   "id": "f5dd80ec",
   "metadata": {},
   "outputs": [
    {
     "data": {
      "text/plain": [
       "1"
      ]
     },
     "execution_count": 3,
     "metadata": {},
     "output_type": "execute_result"
    }
   ],
   "source": [
    "len(\"\\n\") # returns 1 because whitespace character have its code point"
   ]
  },
  {
   "cell_type": "code",
   "execution_count": 4,
   "id": "f8a7a45c",
   "metadata": {},
   "outputs": [
    {
     "data": {
      "text/plain": [
       "1"
      ]
     },
     "execution_count": 4,
     "metadata": {},
     "output_type": "execute_result"
    }
   ],
   "source": [
    "len(\"\\\\\") # also print 1 it count slash character without counting the slash escaping character \"\\\""
   ]
  },
  {
   "cell_type": "code",
   "execution_count": 5,
   "id": "ea1c6715",
   "metadata": {},
   "outputs": [
    {
     "ename": "SyntaxError",
     "evalue": "unexpected EOF while parsing (2377309865.py, line 1)",
     "output_type": "error",
     "traceback": [
      "\u001b[0;36m  File \u001b[0;32m\"/tmp/ipykernel_17840/2377309865.py\"\u001b[0;36m, line \u001b[0;32m1\u001b[0m\n\u001b[0;31m    len(\"\\\") # \"# error because the escaping character \"\\\" escape the second quote and throw SyntaxError\u001b[0m\n\u001b[0m                                                                                                        ^\u001b[0m\n\u001b[0;31mSyntaxError\u001b[0m\u001b[0;31m:\u001b[0m unexpected EOF while parsing\n"
     ]
    }
   ],
   "source": [
    "len(\"\\\") # \"# error because the escaping character \"\\\" escape the second quote and throw SyntaxError"
   ]
  },
  {
   "cell_type": "code",
   "execution_count": 6,
   "id": "4ceda843",
   "metadata": {},
   "outputs": [
    {
     "name": "stdout",
     "output_type": "stream",
     "text": [
      "I'm Ahmed\n"
     ]
    }
   ],
   "source": [
    "print(\"I\\'m Ahmed\") # print the single quote in the word without error using the escpae character \"\\\""
   ]
  },
  {
   "cell_type": "code",
   "execution_count": 7,
   "id": "2153f075",
   "metadata": {},
   "outputs": [
    {
     "data": {
      "text/plain": [
       "'h'"
      ]
     },
     "execution_count": 7,
     "metadata": {},
     "output_type": "execute_result"
    }
   ],
   "source": [
    "\"hello\"[0]# string are like list but it diference from it by immutibality string is immutable so methods insert and append are illegal, but they share some methods like index and slice here index zero returns the letter \"h\""
   ]
  },
  {
   "cell_type": "code",
   "execution_count": 8,
   "id": "e44baebf",
   "metadata": {},
   "outputs": [
    {
     "data": {
      "text/plain": [
       "'o'"
      ]
     },
     "execution_count": 8,
     "metadata": {},
     "output_type": "execute_result"
    }
   ],
   "source": [
    "\"hello\"[4]# here returns \"o\" the last letter"
   ]
  },
  {
   "cell_type": "code",
   "execution_count": 9,
   "id": "baa24971",
   "metadata": {},
   "outputs": [
    {
     "name": "stdout",
     "output_type": "stream",
     "text": [
      "el\n",
      "l\n",
      "\n",
      "ello\n",
      "hlo\n"
     ]
    }
   ],
   "source": [
    "# slice method [start:end:step]\n",
    "print(\"hello\"[1:3])   # here returns letters from 1 inclusive to 3 exclusive so it returns the first one and the second \"el\".\n",
    "print(\"hello\"[-2:-1]) # here returns letter \"l\" and beacause it starts from the second one inclusive \" -2\" befor the last one \"-1\" and ends on the last one \"-1\" it prints \"l\".  \n",
    "print(\"hello\"[-2:1])  # here returns empty string bacause it starts from \"-2\" thus one before the last one \"-1\" but ends on \"1\" that is the start of string so is imposible. \n",
    "print(\"hello\"[1::1])  # here print \"ello\" the first letter in the first parameter and the second parameter ommited so meaning all ocurrence until the end of the string and the third parametre one step. \n",
    "print(\"hello\"[::2])   # here print \"hlo\" the first parametre and the second are ommited meaning all letters inclusively and the third parametre show how letter must escaped and pick the one start and the latter inclusively"
   ]
  },
  {
   "cell_type": "code",
   "execution_count": 10,
   "id": "6a9322dd",
   "metadata": {},
   "outputs": [
    {
     "data": {
      "text/plain": [
       "65"
      ]
     },
     "execution_count": 10,
     "metadata": {},
     "output_type": "execute_result"
    }
   ],
   "source": [
    "ord('A') # print the code point represented by this character"
   ]
  },
  {
   "cell_type": "code",
   "execution_count": 11,
   "id": "80b173f9",
   "metadata": {},
   "outputs": [
    {
     "data": {
      "text/plain": [
       "'A'"
      ]
     },
     "execution_count": 11,
     "metadata": {},
     "output_type": "execute_result"
    }
   ],
   "source": [
    "chr(65) # print the character string represented by this code point"
   ]
  },
  {
   "cell_type": "code",
   "execution_count": 12,
   "id": "d38436f9",
   "metadata": {},
   "outputs": [
    {
     "data": {
      "text/plain": [
       "'Hello\\nWorld'"
      ]
     },
     "execution_count": 12,
     "metadata": {},
     "output_type": "execute_result"
    }
   ],
   "source": [
    "\"\"\"Hello\n",
    "World\"\"\" # multiline string"
   ]
  },
  {
   "cell_type": "code",
   "execution_count": 13,
   "id": "e4fec67a",
   "metadata": {},
   "outputs": [
    {
     "data": {
      "text/plain": [
       "11"
      ]
     },
     "execution_count": 13,
     "metadata": {},
     "output_type": "execute_result"
    }
   ],
   "source": [
    "len(\"\"\"Hello\n",
    "World\"\"\")# helloworld=10 + \\n1 = hello\\nworld = 11"
   ]
  },
  {
   "cell_type": "code",
   "execution_count": 14,
   "id": "bc0a8a03",
   "metadata": {},
   "outputs": [
    {
     "data": {
      "text/plain": [
       "'fffffffff'"
      ]
     },
     "execution_count": 14,
     "metadata": {},
     "output_type": "execute_result"
    }
   ],
   "source": [
    "\"fff\" * 3 # string support multiplication"
   ]
  },
  {
   "cell_type": "code",
   "execution_count": 15,
   "id": "b3d35a41",
   "metadata": {},
   "outputs": [
    {
     "data": {
      "text/plain": [
       "'ffrr  rrff'"
      ]
     },
     "execution_count": 15,
     "metadata": {},
     "output_type": "execute_result"
    }
   ],
   "source": [
    "# string also support addition and produce a new string but in contrast to its numerical version the order matters we can say teh overloaded \"+\" is not commutative\n",
    "\"ff\" + \"rr \" \" rr\" + \"ff\" "
   ]
  },
  {
   "cell_type": "code",
   "execution_count": 16,
   "id": "9d023b2b",
   "metadata": {
    "scrolled": true
   },
   "outputs": [
    {
     "ename": "TypeError",
     "evalue": "unsupported operand type(s) for -: 'str' and 'str'",
     "output_type": "error",
     "traceback": [
      "\u001b[0;31m---------------------------------------------------------------------------\u001b[0m",
      "\u001b[0;31mTypeError\u001b[0m                                 Traceback (most recent call last)",
      "\u001b[0;32m/tmp/ipykernel_17840/1006604221.py\u001b[0m in \u001b[0;36m<module>\u001b[0;34m\u001b[0m\n\u001b[0;32m----> 1\u001b[0;31m \u001b[0;34m\"ff\"\u001b[0m \u001b[0;34m-\u001b[0m \u001b[0;34m\"gg\"\u001b[0m \u001b[0;31m# but not substraction or quotient this will throw TypeError\u001b[0m\u001b[0;34m\u001b[0m\u001b[0;34m\u001b[0m\u001b[0m\n\u001b[0m",
      "\u001b[0;31mTypeError\u001b[0m: unsupported operand type(s) for -: 'str' and 'str'"
     ]
    }
   ],
   "source": [
    "\"ff\" - \"gg\" # but not substraction or quotient this will throw TypeError"
   ]
  },
  {
   "cell_type": "code",
   "execution_count": 17,
   "id": "c0d80c6c",
   "metadata": {},
   "outputs": [
    {
     "name": "stdout",
     "output_type": "stream",
     "text": [
      "h\n",
      "a\n",
      "s\n",
      "s\n",
      "a\n",
      "n\n"
     ]
    }
   ],
   "source": [
    "for i in \"hassan\":print(i)# also string is iterable"
   ]
  },
  {
   "cell_type": "code",
   "execution_count": 18,
   "id": "4ae7cd22",
   "metadata": {
    "scrolled": false
   },
   "outputs": [
    {
     "ename": "TypeError",
     "evalue": "'str' object does not support item assignment",
     "output_type": "error",
     "traceback": [
      "\u001b[0;31m---------------------------------------------------------------------------\u001b[0m",
      "\u001b[0;31mTypeError\u001b[0m                                 Traceback (most recent call last)",
      "\u001b[0;32m/tmp/ipykernel_17840/1335901663.py\u001b[0m in \u001b[0;36m<module>\u001b[0;34m\u001b[0m\n\u001b[0;32m----> 1\u001b[0;31m \u001b[0;34m\"hassan\"\u001b[0m\u001b[0;34m[\u001b[0m\u001b[0;36m0\u001b[0m\u001b[0;34m]\u001b[0m \u001b[0;34m=\u001b[0m \u001b[0;34m\"k\"\u001b[0m\u001b[0;31m# print TypeError, strings are immutable so we can't change them after created.\u001b[0m\u001b[0;34m\u001b[0m\u001b[0;34m\u001b[0m\u001b[0m\n\u001b[0m",
      "\u001b[0;31mTypeError\u001b[0m: 'str' object does not support item assignment"
     ]
    }
   ],
   "source": [
    "\"hassan\"[0] = \"k\"# print TypeError, strings are immutable so we can't change them after created."
   ]
  },
  {
   "cell_type": "code",
   "execution_count": 19,
   "id": "de84e539",
   "metadata": {},
   "outputs": [
    {
     "data": {
      "text/plain": [
       "'a'"
      ]
     },
     "execution_count": 19,
     "metadata": {},
     "output_type": "execute_result"
    }
   ],
   "source": [
    "min(\"hassan\") # return the minimum code point value "
   ]
  },
  {
   "cell_type": "code",
   "execution_count": 20,
   "id": "facaf06d",
   "metadata": {},
   "outputs": [
    {
     "data": {
      "text/plain": [
       "'s'"
      ]
     },
     "execution_count": 20,
     "metadata": {},
     "output_type": "execute_result"
    }
   ],
   "source": [
    "max(\"hassan\") # returns the maximum code point value"
   ]
  },
  {
   "cell_type": "code",
   "execution_count": 21,
   "id": "5c29106a",
   "metadata": {},
   "outputs": [
    {
     "data": {
      "text/plain": [
       "' '"
      ]
     },
     "execution_count": 21,
     "metadata": {},
     "output_type": "execute_result"
    }
   ],
   "source": [
    "min(\"has san\") # return the minimum code point value here is whitespace character"
   ]
  },
  {
   "cell_type": "code",
   "execution_count": 23,
   "id": "7f7175ca",
   "metadata": {},
   "outputs": [
    {
     "data": {
      "text/plain": [
       "2"
      ]
     },
     "execution_count": 23,
     "metadata": {},
     "output_type": "execute_result"
    }
   ],
   "source": [
    "# count() returns how many occurences in a given string\n",
    "\"hassan\".count(\"s\")"
   ]
  },
  {
   "cell_type": "code",
   "execution_count": 24,
   "id": "be8b01c5",
   "metadata": {
    "scrolled": true
   },
   "outputs": [
    {
     "name": "stdout",
     "output_type": "stream",
     "text": [
      "Alpha\n",
      "Alpha\n",
      " alpha\n",
      "123\n",
      "Αβγδ\n"
     ]
    }
   ],
   "source": [
    "# Demonstrating the capitalize() method:\n",
    "\n",
    "print(\"Alpha\".capitalize()) # capitalize first letter\n",
    "print('ALPHA'.capitalize()) # capitalize first letter and convert the other to lower case\n",
    "print(' Alpha'.capitalize())# nothing change because the first letter is empty \n",
    "print('123'.capitalize())   # nothing to do\n",
    "print(\"αβγδ\".capitalize())  # capitalize the first letter "
   ]
  },
  {
   "cell_type": "code",
   "execution_count": 26,
   "id": "6297ed41",
   "metadata": {
    "scrolled": true
   },
   "outputs": [
    {
     "name": "stdout",
     "output_type": "stream",
     "text": [
      "[  alpha   ]\n",
      "[Beta]\n",
      "[Beta]\n",
      "[ Beta ]\n",
      "[*******gamma********]\n"
     ]
    }
   ],
   "source": [
    "# Demonstrating the center() method:\n",
    "\n",
    "print('[' + 'alpha'.center(10) + ']')      # print centered string between spaces specified by the the argument given here 10.\n",
    "print('[' + 'Beta'.center(2) + ']')        # print centered string between spaces specified by the the argument given here 2.\n",
    "print('[' + 'Beta'.center(4) + ']')        # centered string between spaces specified by the the argument given here 4.\n",
    "print('[' + 'Beta'.center(6) + ']')        # centered string between spaces specified by the the argument given here 6.\n",
    "print('[' + 'gamma'.center(20, '*') + ']') # centered string between asterisks specified by the the argument given here 10."
   ]
  },
  {
   "cell_type": "code",
   "execution_count": 27,
   "id": "4cd66c54",
   "metadata": {
    "scrolled": true
   },
   "outputs": [
    {
     "data": {
      "text/plain": [
       "True"
      ]
     },
     "execution_count": 27,
     "metadata": {},
     "output_type": "execute_result"
    }
   ],
   "source": [
    "# endswith()\n",
    "\"epsilon\".endswith(\"on\")# return a boolean True or False"
   ]
  },
  {
   "cell_type": "code",
   "execution_count": 28,
   "id": "f1a163dc",
   "metadata": {},
   "outputs": [
    {
     "name": "stdout",
     "output_type": "stream",
     "text": [
      "False\n",
      "True\n"
     ]
    }
   ],
   "source": [
    "# Demonstrating the startswith() method:\n",
    "print(\"omega\".startswith(\"meg\")) # returns a boolean value True or Flase if the condition is meeted\n",
    "print(\"omega\".startswith(\"om\"))"
   ]
  }
 ],
 "metadata": {
  "kernelspec": {
   "display_name": "Python 3 (ipykernel)",
   "language": "python",
   "name": "python3"
  },
  "language_info": {
   "codemirror_mode": {
    "name": "ipython",
    "version": 3
   },
   "file_extension": ".py",
   "mimetype": "text/x-python",
   "name": "python",
   "nbconvert_exporter": "python",
   "pygments_lexer": "ipython3",
   "version": "3.9.13"
  }
 },
 "nbformat": 4,
 "nbformat_minor": 5
}
