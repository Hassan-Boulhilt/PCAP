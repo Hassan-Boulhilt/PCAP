{
 "cells": [
  {
   "cell_type": "code",
   "execution_count": 1,
   "id": "7fb181da",
   "metadata": {},
   "outputs": [
    {
     "data": {
      "text/plain": [
       "11"
      ]
     },
     "execution_count": 1,
     "metadata": {},
     "output_type": "execute_result"
    }
   ],
   "source": [
    "len(\"hollo world\")# print the length of string here 11"
   ]
  },
  {
   "cell_type": "code",
   "execution_count": 2,
   "id": "0350108a",
   "metadata": {
    "scrolled": true
   },
   "outputs": [
    {
     "data": {
      "text/plain": [
       "0"
      ]
     },
     "execution_count": 2,
     "metadata": {},
     "output_type": "execute_result"
    }
   ],
   "source": [
    "len(\"\")# print 0"
   ]
  },
  {
   "cell_type": "code",
   "execution_count": 3,
   "id": "f5dd80ec",
   "metadata": {},
   "outputs": [
    {
     "data": {
      "text/plain": [
       "1"
      ]
     },
     "execution_count": 3,
     "metadata": {},
     "output_type": "execute_result"
    }
   ],
   "source": [
    "len(\"\\n\") # returns 1 because whitespace character have its code point"
   ]
  },
  {
   "cell_type": "code",
   "execution_count": 4,
   "id": "f8a7a45c",
   "metadata": {},
   "outputs": [
    {
     "data": {
      "text/plain": [
       "1"
      ]
     },
     "execution_count": 4,
     "metadata": {},
     "output_type": "execute_result"
    }
   ],
   "source": [
    "len(\"\\\\\") # also print 1 it count slash character without counting the slash escaping character \"\\\""
   ]
  },
  {
   "cell_type": "code",
   "execution_count": 5,
   "id": "ea1c6715",
   "metadata": {},
   "outputs": [
    {
     "ename": "SyntaxError",
     "evalue": "unexpected EOF while parsing (2377309865.py, line 1)",
     "output_type": "error",
     "traceback": [
      "\u001b[0;36m  File \u001b[0;32m\"/tmp/ipykernel_37000/2377309865.py\"\u001b[0;36m, line \u001b[0;32m1\u001b[0m\n\u001b[0;31m    len(\"\\\") # \"# error because the escaping character \"\\\" escape the second quote and throw SyntaxError\u001b[0m\n\u001b[0m                                                                                                        ^\u001b[0m\n\u001b[0;31mSyntaxError\u001b[0m\u001b[0;31m:\u001b[0m unexpected EOF while parsing\n"
     ]
    }
   ],
   "source": [
    "len(\"\\\") # \"# error because the escaping character \"\\\" escape the second quote and throw SyntaxError"
   ]
  },
  {
   "cell_type": "code",
   "execution_count": 6,
   "id": "4ceda843",
   "metadata": {},
   "outputs": [
    {
     "name": "stdout",
     "output_type": "stream",
     "text": [
      "I'm Ahmed\n"
     ]
    }
   ],
   "source": [
    "print(\"I\\'m Ahmed\") # print the single quote in the word without error using the escpae character \"\\\""
   ]
  },
  {
   "cell_type": "code",
   "execution_count": 7,
   "id": "2153f075",
   "metadata": {},
   "outputs": [
    {
     "data": {
      "text/plain": [
       "'h'"
      ]
     },
     "execution_count": 7,
     "metadata": {},
     "output_type": "execute_result"
    }
   ],
   "source": [
    "\"hello\"[0]# string are like list  we can access its elements by index here index zero returns the letter \"h\""
   ]
  },
  {
   "cell_type": "code",
   "execution_count": 8,
   "id": "e44baebf",
   "metadata": {},
   "outputs": [
    {
     "data": {
      "text/plain": [
       "'o'"
      ]
     },
     "execution_count": 8,
     "metadata": {},
     "output_type": "execute_result"
    }
   ],
   "source": [
    "\"hello\"[4]# here returns \"o\" the last letter"
   ]
  },
  {
   "cell_type": "code",
   "execution_count": 9,
   "id": "baa24971",
   "metadata": {},
   "outputs": [
    {
     "data": {
      "text/plain": [
       "'el'"
      ]
     },
     "execution_count": 9,
     "metadata": {},
     "output_type": "execute_result"
    }
   ],
   "source": [
    "# slice method returns letter from 1 inclusive to 3 exclusive so it returns the first one and the second \"el\"\n",
    "\"hello\"[1:3]"
   ]
  },
  {
   "cell_type": "code",
   "execution_count": 10,
   "id": "6a9322dd",
   "metadata": {},
   "outputs": [
    {
     "data": {
      "text/plain": [
       "65"
      ]
     },
     "execution_count": 10,
     "metadata": {},
     "output_type": "execute_result"
    }
   ],
   "source": [
    "ord('A') # print the code point represented by this character"
   ]
  },
  {
   "cell_type": "code",
   "execution_count": 11,
   "id": "80b173f9",
   "metadata": {},
   "outputs": [
    {
     "data": {
      "text/plain": [
       "'A'"
      ]
     },
     "execution_count": 11,
     "metadata": {},
     "output_type": "execute_result"
    }
   ],
   "source": [
    "chr(65) # print the character string represented by this code point"
   ]
  },
  {
   "cell_type": "code",
   "execution_count": 12,
   "id": "d38436f9",
   "metadata": {},
   "outputs": [
    {
     "data": {
      "text/plain": [
       "'Hello\\nWorld'"
      ]
     },
     "execution_count": 12,
     "metadata": {},
     "output_type": "execute_result"
    }
   ],
   "source": [
    "\"\"\"Hello\n",
    "World\"\"\" # multiline string"
   ]
  },
  {
   "cell_type": "code",
   "execution_count": 13,
   "id": "e4fec67a",
   "metadata": {},
   "outputs": [
    {
     "data": {
      "text/plain": [
       "11"
      ]
     },
     "execution_count": 13,
     "metadata": {},
     "output_type": "execute_result"
    }
   ],
   "source": [
    "len(\"\"\"Hello\n",
    "World\"\"\")# helloworld=10 + \\n1 = hello\\nworld = 11"
   ]
  },
  {
   "cell_type": "code",
   "execution_count": 14,
   "id": "bc0a8a03",
   "metadata": {},
   "outputs": [
    {
     "data": {
      "text/plain": [
       "'fffffffff'"
      ]
     },
     "execution_count": 14,
     "metadata": {},
     "output_type": "execute_result"
    }
   ],
   "source": [
    "\"fff\" * 3 # string support multiplication"
   ]
  },
  {
   "cell_type": "code",
   "execution_count": 15,
   "id": "b3d35a41",
   "metadata": {},
   "outputs": [
    {
     "data": {
      "text/plain": [
       "'ffrr  rrff'"
      ]
     },
     "execution_count": 15,
     "metadata": {},
     "output_type": "execute_result"
    }
   ],
   "source": [
    "# string also support addition. if the order doesn't mutter we can say the operator is commutative\n",
    "\"ff\" + \"rr \" \" rr\" + \"ff\" "
   ]
  },
  {
   "cell_type": "code",
   "execution_count": 16,
   "id": "9d023b2b",
   "metadata": {
    "scrolled": true
   },
   "outputs": [
    {
     "ename": "TypeError",
     "evalue": "unsupported operand type(s) for -: 'str' and 'str'",
     "output_type": "error",
     "traceback": [
      "\u001b[0;31m---------------------------------------------------------------------------\u001b[0m",
      "\u001b[0;31mTypeError\u001b[0m                                 Traceback (most recent call last)",
      "\u001b[0;32m/tmp/ipykernel_37000/1006604221.py\u001b[0m in \u001b[0;36m<module>\u001b[0;34m\u001b[0m\n\u001b[0;32m----> 1\u001b[0;31m \u001b[0;34m\"ff\"\u001b[0m \u001b[0;34m-\u001b[0m \u001b[0;34m\"gg\"\u001b[0m \u001b[0;31m# but not substraction or quotient this will throw TypeError\u001b[0m\u001b[0;34m\u001b[0m\u001b[0;34m\u001b[0m\u001b[0m\n\u001b[0m",
      "\u001b[0;31mTypeError\u001b[0m: unsupported operand type(s) for -: 'str' and 'str'"
     ]
    }
   ],
   "source": [
    "\"ff\" - \"gg\" # but not substraction or quotient this will throw TypeError"
   ]
  },
  {
   "cell_type": "code",
   "execution_count": 17,
   "id": "c0d80c6c",
   "metadata": {},
   "outputs": [
    {
     "name": "stdout",
     "output_type": "stream",
     "text": [
      "h\n",
      "a\n",
      "s\n",
      "s\n",
      "a\n",
      "n\n"
     ]
    }
   ],
   "source": [
    "for i in \"hassan\":print(i)# also string is iterable"
   ]
  },
  {
   "cell_type": "code",
   "execution_count": 18,
   "id": "4ae7cd22",
   "metadata": {
    "scrolled": false
   },
   "outputs": [
    {
     "ename": "TypeError",
     "evalue": "'str' object does not support item assignment",
     "output_type": "error",
     "traceback": [
      "\u001b[0;31m---------------------------------------------------------------------------\u001b[0m",
      "\u001b[0;31mTypeError\u001b[0m                                 Traceback (most recent call last)",
      "\u001b[0;32m/tmp/ipykernel_37000/1335901663.py\u001b[0m in \u001b[0;36m<module>\u001b[0;34m\u001b[0m\n\u001b[0;32m----> 1\u001b[0;31m \u001b[0;34m\"hassan\"\u001b[0m\u001b[0;34m[\u001b[0m\u001b[0;36m0\u001b[0m\u001b[0;34m]\u001b[0m \u001b[0;34m=\u001b[0m \u001b[0;34m\"k\"\u001b[0m\u001b[0;31m# print TypeError, strings are immutable so we can't change them after created.\u001b[0m\u001b[0;34m\u001b[0m\u001b[0;34m\u001b[0m\u001b[0m\n\u001b[0m",
      "\u001b[0;31mTypeError\u001b[0m: 'str' object does not support item assignment"
     ]
    }
   ],
   "source": [
    "\"hassan\"[0] = \"k\"# print TypeError, strings are immutable so we can't change them after created."
   ]
  },
  {
   "cell_type": "code",
   "execution_count": 19,
   "id": "de84e539",
   "metadata": {},
   "outputs": [
    {
     "data": {
      "text/plain": [
       "'a'"
      ]
     },
     "execution_count": 19,
     "metadata": {},
     "output_type": "execute_result"
    }
   ],
   "source": [
    "min(\"hassan\") # return the minimum code point value "
   ]
  },
  {
   "cell_type": "code",
   "execution_count": 20,
   "id": "facaf06d",
   "metadata": {},
   "outputs": [
    {
     "data": {
      "text/plain": [
       "'s'"
      ]
     },
     "execution_count": 20,
     "metadata": {},
     "output_type": "execute_result"
    }
   ],
   "source": [
    "max(\"hassan\") # returns the maximum code point value"
   ]
  },
  {
   "cell_type": "code",
   "execution_count": 21,
   "id": "5c29106a",
   "metadata": {},
   "outputs": [
    {
     "data": {
      "text/plain": [
       "' '"
      ]
     },
     "execution_count": 21,
     "metadata": {},
     "output_type": "execute_result"
    }
   ],
   "source": [
    "min(\"has san\") # return the minimum code point value here is whitespace character"
   ]
  }
 ],
 "metadata": {
  "kernelspec": {
   "display_name": "Python 3 (ipykernel)",
   "language": "python",
   "name": "python3"
  },
  "language_info": {
   "codemirror_mode": {
    "name": "ipython",
    "version": 3
   },
   "file_extension": ".py",
   "mimetype": "text/x-python",
   "name": "python",
   "nbconvert_exporter": "python",
   "pygments_lexer": "ipython3",
   "version": "3.9.13"
  }
 },
 "nbformat": 4,
 "nbformat_minor": 5
}
