{
 "cells": [
  {
   "cell_type": "code",
   "execution_count": 1,
   "id": "36298eec",
   "metadata": {
    "scrolled": true
   },
   "outputs": [
    {
     "name": "stdout",
     "output_type": "stream",
     "text": [
      "omicron pi rho\n"
     ]
    }
   ],
   "source": [
    "# Demonstrating the join() method:\n",
    "\n",
    "print(\" \".join([\"omicron\", \"pi\", \"rho\"]))# join strings between eatch other, here by a space"
   ]
  },
  {
   "cell_type": "code",
   "execution_count": 5,
   "id": "86262934",
   "metadata": {},
   "outputs": [
    {
     "name": "stdout",
     "output_type": "stream",
     "text": [
      "[aleph]\n"
     ]
    }
   ],
   "source": [
    "# Demonstrating the strip() method:\n",
    "print(\"[\" + \"   aleph   \".strip() + \"]\")# it deletes space befor and  after the string and returns a new one without the both sapce "
   ]
  },
  {
   "cell_type": "code",
   "execution_count": 2,
   "id": "9c329560",
   "metadata": {},
   "outputs": [
    {
     "name": "stdout",
     "output_type": "stream",
     "text": [
      "[tau   ]\n"
     ]
    }
   ],
   "source": [
    "# Demonstrating the lstrip() method:\n",
    "\n",
    "print(\"[\" + \"   tau   \".lstrip() + \"]\")# it deletes space befor the string and return a new one without the left sapce "
   ]
  },
  {
   "cell_type": "code",
   "execution_count": 3,
   "id": "6ef3de20",
   "metadata": {},
   "outputs": [
    {
     "name": "stdout",
     "output_type": "stream",
     "text": [
      "[   tau]\n"
     ]
    }
   ],
   "source": [
    "# Demonstrating the rstrip() method:\n",
    "\n",
    "print(\"[\" + \"   tau   \".rstrip() + \"]\")# it deletes space after the string and return a new one without the right sapce "
   ]
  },
  {
   "cell_type": "code",
   "execution_count": 4,
   "id": "c9b0b8f3",
   "metadata": {},
   "outputs": [
    {
     "name": "stdout",
     "output_type": "stream",
     "text": [
      "www.pythoninstitute.org\n",
      "Thare are it!\n",
      "Apple \n"
     ]
    }
   ],
   "source": [
    "# Demonstrating the replace() method:\n",
    "\n",
    "print(\"www.netacad.com\".replace(\"netacad.com\", \"pythoninstitute.org\"))# replace the first argument by the seconde one\n",
    "print(\"This is it!\".replace(\"is\", \"are\"))                             # replace the first argument by the seconde one\n",
    "print(\"Apple juice\".replace(\"juice\", \"\"))                             # replace the first argument by the seconde one"
   ]
  },
  {
   "cell_type": "code",
   "execution_count": null,
   "id": "a3b27cf9",
   "metadata": {},
   "outputs": [],
   "source": [
    "# Demonstrating the split() method:\n",
    "\n",
    "print(\"phi       chi\\npsi\".split())# it split the strings into small chuncks when ever it founds a delimited whitespace"
   ]
  }
 ],
 "metadata": {
  "kernelspec": {
   "display_name": "Python 3 (ipykernel)",
   "language": "python",
   "name": "python3"
  },
  "language_info": {
   "codemirror_mode": {
    "name": "ipython",
    "version": 3
   },
   "file_extension": ".py",
   "mimetype": "text/x-python",
   "name": "python",
   "nbconvert_exporter": "python",
   "pygments_lexer": "ipython3",
   "version": "3.9.13"
  }
 },
 "nbformat": 4,
 "nbformat_minor": 5
}
