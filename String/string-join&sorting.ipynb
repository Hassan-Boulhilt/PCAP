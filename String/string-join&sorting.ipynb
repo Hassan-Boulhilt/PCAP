{
 "cells": [
  {
   "cell_type": "code",
   "execution_count": 1,
   "id": "12a53be7",
   "metadata": {
    "scrolled": true
   },
   "outputs": [
    {
     "name": "stdout",
     "output_type": "stream",
     "text": [
      "omicron pi rho\n"
     ]
    }
   ],
   "source": [
    "# Demonstrating the join() method:\n",
    "\n",
    "print(\" \".join([\"omicron\", \"pi\", \"rho\"]))# join strings between eatch other, here by a space"
   ]
  },
  {
   "cell_type": "code",
   "execution_count": 2,
   "id": "168777e6",
   "metadata": {},
   "outputs": [
    {
     "name": "stdout",
     "output_type": "stream",
     "text": [
      "[aleph]\n"
     ]
    }
   ],
   "source": [
    "# Demonstrating the strip() method:\n",
    "print(\"[\" + \"   aleph   \".strip() + \"]\")# it deletes space befor and  after the string and returns a new one without the both sapces "
   ]
  },
  {
   "cell_type": "code",
   "execution_count": 3,
   "id": "4be8a4e7",
   "metadata": {},
   "outputs": [
    {
     "name": "stdout",
     "output_type": "stream",
     "text": [
      "[tau   ]\n"
     ]
    }
   ],
   "source": [
    "# Demonstrating the lstrip() method:\n",
    "\n",
    "print(\"[\" + \"   tau   \".lstrip() + \"]\")# it deletes space befor the string and returns a new one without the left sapce "
   ]
  },
  {
   "cell_type": "code",
   "execution_count": 4,
   "id": "16e9088b",
   "metadata": {},
   "outputs": [
    {
     "name": "stdout",
     "output_type": "stream",
     "text": [
      "[   tau]\n"
     ]
    }
   ],
   "source": [
    "# Demonstrating the rstrip() method:\n",
    "\n",
    "print(\"[\" + \"   tau   \".rstrip() + \"]\")# it deletes space after the string and returns a new one without the right sapce "
   ]
  },
  {
   "cell_type": "code",
   "execution_count": 5,
   "id": "e4150b65",
   "metadata": {},
   "outputs": [
    {
     "name": "stdout",
     "output_type": "stream",
     "text": [
      "www.pythoninstitute.org\n",
      "Thare are it!\n",
      "Apple \n"
     ]
    }
   ],
   "source": [
    "# Demonstrating the replace() method:\n",
    "\n",
    "print(\"www.netacad.com\".replace(\"netacad.com\", \"pythoninstitute.org\"))# replace the first argument by the seconde one\n",
    "print(\"This is it!\".replace(\"is\", \"are\"))                             # replace the first argument by the seconde one\n",
    "print(\"Apple juice\".replace(\"juice\", \"\"))                             # replace the first argument by the seconde one"
   ]
  },
  {
   "cell_type": "code",
   "execution_count": 6,
   "id": "821c8c6a",
   "metadata": {},
   "outputs": [
    {
     "name": "stdout",
     "output_type": "stream",
     "text": [
      "['phi', 'chi', 'psi']\n"
     ]
    }
   ],
   "source": [
    "# Demonstrating the split() method:\n",
    "\n",
    "print(\"phi       chi\\npsi\".split())# it split the strings into small chuncks when ever it founds a delimited whitespace and returns a list contains all those chunks"
   ]
  },
  {
   "cell_type": "code",
   "execution_count": 7,
   "id": "91395f4b",
   "metadata": {},
   "outputs": [
    {
     "name": "stdout",
     "output_type": "stream",
     "text": [
      "i KNOW THAT i KNOW NOTHING.\n",
      "\n",
      "I Know That I Know Nothing. Part 1.\n",
      "\n",
      "I KNOW THAT I KNOW NOTHING. PART 2.\n"
     ]
    }
   ],
   "source": [
    "# Demonstrating the swapcase() method:\n",
    "print(\"I know that I know nothing.\".swapcase())# it swape cases upper to lower and lower to upper\n",
    "\n",
    "print()\n",
    "\n",
    "# Demonstrating the title() method:\n",
    "print(\"I know that I know nothing. Part 1.\".title())# same as capitalize it make the first letter in a given word upper\n",
    "\n",
    "print()\n",
    "\n",
    "# Demonstrating the upper() method:\n",
    "print(\"I know that I know nothing. Part 2.\".upper())# returns all letters upper\n"
   ]
  },
  {
   "cell_type": "code",
   "execution_count": 9,
   "id": "2c3e3af5",
   "metadata": {},
   "outputs": [
    {
     "name": "stdout",
     "output_type": "stream",
     "text": [
      "['omega', 'alpha', 'pi', 'gamma']\n",
      "sorted() == >  ['alpha', 'gamma', 'omega', 'pi']\n",
      "\n",
      "['omega', 'alpha', 'pi', 'gamma']\n",
      "sort() == >  ['alpha', 'gamma', 'omega', 'pi']\n"
     ]
    }
   ],
   "source": [
    "# Demonstrating the sorted() function:\n",
    "first_greek = ['omega', 'alpha', 'pi', 'gamma']\n",
    "first_greek_2 = sorted(first_greek)\n",
    "\n",
    "print(first_greek)\n",
    "print(\"sorted() == > \",first_greek_2) # returns new list sorted\n",
    "\n",
    "print()\n",
    "\n",
    "# Demonstrating the sort() method:\n",
    "second_greek = ['omega', 'alpha', 'pi', 'gamma']\n",
    "print(second_greek)\n",
    "\n",
    "second_greek.sort()\n",
    "print(\"sort() == > \",second_greek) # returns the original list sorted\n"
   ]
  }
 ],
 "metadata": {
  "kernelspec": {
   "display_name": "Python 3 (ipykernel)",
   "language": "python",
   "name": "python3"
  },
  "language_info": {
   "codemirror_mode": {
    "name": "ipython",
    "version": 3
   },
   "file_extension": ".py",
   "mimetype": "text/x-python",
   "name": "python",
   "nbconvert_exporter": "python",
   "pygments_lexer": "ipython3",
   "version": "3.9.13"
  }
 },
 "nbformat": 4,
 "nbformat_minor": 5
}
